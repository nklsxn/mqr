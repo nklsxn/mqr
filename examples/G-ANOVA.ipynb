{
 "cells": [
  {
   "cell_type": "code",
   "execution_count": null,
   "id": "695a0fee",
   "metadata": {},
   "outputs": [],
   "source": [
    "import mqr\n",
    "from mqr.plot import Figure\n",
    "from mqr.nbtools import hstack, vstack, grab_figure"
   ]
  },
  {
   "cell_type": "markdown",
   "id": "1f7be362",
   "metadata": {},
   "source": [
    "# Datasets"
   ]
  },
  {
   "cell_type": "code",
   "execution_count": null,
   "id": "5ae93f21",
   "metadata": {},
   "outputs": [],
   "source": [
    "import numpy as np\n",
    "import pandas as pd\n",
    "\n",
    "# Random glue data\n",
    "data = pd.read_csv(mqr.sample_data('anova-glue.csv'), index_col='Run')"
   ]
  },
  {
   "cell_type": "markdown",
   "id": "26021568-f3de-40c2-b734-8f76457c1779",
   "metadata": {},
   "source": [
    "---\n",
    "# Basic Plots"
   ]
  },
  {
   "cell_type": "code",
   "execution_count": null,
   "id": "904796ee-daff-4ac1-9f08-1c8bcd0a8281",
   "metadata": {},
   "outputs": [],
   "source": [
    "with Figure(8, 3, 1, 3) as (fig, axs):\n",
    "    mqr.plot.tools.sharey(fig, axs, True)\n",
    "    mqr.plot.anova.main_effects(data, 'adhesion_force', factors=['primer', 'glue'], axs=axs[:2])\n",
    "    mqr.plot.anova.interactions(data, 'adhesion_force', group='primer', factors=['glue'], axs=axs[2, None])\n",
    "    axs[2].set_ylabel(None)\n",
    "    [ax.grid(axis='y') for ax in axs]"
   ]
  },
  {
   "cell_type": "markdown",
   "id": "13aff651",
   "metadata": {},
   "source": [
    "---\n",
    "# ANOVA"
   ]
  },
  {
   "cell_type": "code",
   "execution_count": null,
   "id": "e6199062",
   "metadata": {},
   "outputs": [],
   "source": [
    "from statsmodels.formula.api import ols\n",
    "import statsmodels.api as sm"
   ]
  },
  {
   "cell_type": "code",
   "execution_count": null,
   "id": "b9c2d65f-ab14-477f-87a6-a601a47f9962",
   "metadata": {},
   "outputs": [],
   "source": [
    "# Simple one factor\n",
    "model = ols('adhesion_force ~ C(primer) + C(glue)', data=data)\n",
    "result = model.fit()\n",
    "\n",
    "vstack(\n",
    "    mqr.anova.adequacy(result),\n",
    "    mqr.anova.summary(result),\n",
    ")"
   ]
  },
  {
   "cell_type": "code",
   "execution_count": null,
   "id": "700ab3ab-c93e-440d-93c8-0955e394cf6e",
   "metadata": {},
   "outputs": [],
   "source": [
    "with Figure(7, 3, 1, 2) as (fig, axs):\n",
    "    mqr.plot.tools.sharey(fig, axs, remove_space=True)\n",
    "    mqr.plot.anova.model_means(\n",
    "        result,\n",
    "        response='adhesion_force',\n",
    "        factors=['primer', 'glue'],\n",
    "        axs=axs)"
   ]
  },
  {
   "cell_type": "code",
   "execution_count": null,
   "id": "3eb435fa",
   "metadata": {},
   "outputs": [],
   "source": [
    "groups_primer = mqr.anova.groups(result, value='adhesion_force', factor='primer')\n",
    "groups_glue = mqr.anova.groups(result, value='adhesion_force', factor='glue')\n",
    "\n",
    "with Figure(7, 2, 1, 2) as (fig, axs):\n",
    "    mqr.plot.tools.sharey(fig, axs)\n",
    "    mqr.plot.anova.groups(groups_glue, ax=axs[0])\n",
    "    mqr.plot.anova.groups(groups_primer, ax=axs[1])\n",
    "    plot = grab_figure(fig)\n",
    "\n",
    "vstack(\n",
    "    plot,\n",
    "    hstack(\n",
    "        groups_glue,\n",
    "        groups_primer,\n",
    "    ),\n",
    ")"
   ]
  },
  {
   "cell_type": "markdown",
   "id": "db7de6d7",
   "metadata": {},
   "source": [
    "---\n",
    "## Residual analysis"
   ]
  },
  {
   "cell_type": "code",
   "execution_count": null,
   "id": "c9f89c67",
   "metadata": {},
   "outputs": [],
   "source": [
    "# See https://en.wikipedia.org/wiki/Studentized_residual#Internal_and_external_studentization\n",
    "\n",
    "influence = result.get_influence()\n",
    "N = influence.nobs\n",
    "with Figure(6, 3) as (fig, ax):\n",
    "    ax.plot(influence.resid_studentized_internal, linewidth=0, marker='o', fillstyle='none')\n",
    "    ax.plot(influence.resid_studentized_external, linewidth=0, marker='x')\n",
    "    ax.set_ylabel('residuals')\n",
    "\n",
    "    axt = ax.twinx()\n",
    "    axt.bar(range(N), 1-influence.cooks_distance[1], alpha=0.5)\n",
    "    axt.set_ylim(0.0, 1.0)\n",
    "    axt.set_ylabel(\"Cook's distance (1-p)\")\n",
    "\n",
    "    ax.legend(['stud. internal', 'stud. external'])\n",
    "    ax.grid(axis='y')"
   ]
  },
  {
   "cell_type": "code",
   "execution_count": null,
   "id": "2f89ff2d",
   "metadata": {},
   "outputs": [],
   "source": [
    "# NB: Factor plots are added manually. See how a 2*2 slice of the axes `ax[:2, :2]` is passed to the `residuals` function.\n",
    "#     Any slice with 4 elements will work. The remaining factor plots are added manually into ax[2, 0] and ax[2, 1].\n",
    "\n",
    "influence = result.get_influence()\n",
    "resid = influence.resid_studentized_external\n",
    "\n",
    "with Figure(7, 5, 3, 2, height_ratios=[3, 2, 2]) as (fig, ax):\n",
    "    mqr.plot.regression.residuals(resid, result.fittedvalues, axs=ax[:2, :2])\n",
    "    mqr.plot.regression.res_v_factor(resid, data['primer'], ax[2, 0])\n",
    "    mqr.plot.regression.res_v_factor(resid, data['glue'], ax[2, 1])\n",
    "    mqr.plot.regression.influence(result, 'cooks_dist', ax[1, 0])\n",
    "\n",
    "    plot = grab_figure(fig)\n",
    "\n",
    "vstack(\n",
    "    plot,\n",
    "    mqr.inference.dist.test_1sample(resid)\n",
    ")"
   ]
  }
 ],
 "metadata": {
  "kernelspec": {
   "display_name": "Python 3 (ipykernel)",
   "language": "python",
   "name": "python3"
  },
  "language_info": {
   "codemirror_mode": {
    "name": "ipython",
    "version": 3
   },
   "file_extension": ".py",
   "mimetype": "text/x-python",
   "name": "python",
   "nbconvert_exporter": "python",
   "pygments_lexer": "ipython3",
   "version": "3.12.4"
  }
 },
 "nbformat": 4,
 "nbformat_minor": 5
}
