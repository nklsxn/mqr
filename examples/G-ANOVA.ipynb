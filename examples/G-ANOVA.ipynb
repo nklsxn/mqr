{
 "cells": [
  {
   "cell_type": "code",
   "execution_count": null,
   "id": "695a0fee",
   "metadata": {},
   "outputs": [],
   "source": [
    "import mqr\n",
    "from mqr.plot import Figure"
   ]
  },
  {
   "cell_type": "code",
   "execution_count": null,
   "id": "1810ea15",
   "metadata": {},
   "outputs": [],
   "source": [
    "from IPython.display import display, HTML"
   ]
  },
  {
   "cell_type": "markdown",
   "id": "1f7be362",
   "metadata": {},
   "source": [
    "# Datasets"
   ]
  },
  {
   "cell_type": "code",
   "execution_count": null,
   "id": "5ae93f21",
   "metadata": {},
   "outputs": [],
   "source": [
    "import pandas as pd\n",
    "\n",
    "# Random glue data\n",
    "data = pd.read_csv(mqr.sample_data('anova-glue.csv'), index_col='Run')"
   ]
  },
  {
   "cell_type": "markdown",
   "id": "13aff651",
   "metadata": {},
   "source": [
    "---\n",
    "# ANOVA"
   ]
  },
  {
   "cell_type": "code",
   "execution_count": null,
   "id": "e6199062",
   "metadata": {},
   "outputs": [],
   "source": [
    "from statsmodels.formula.api import ols\n",
    "import statsmodels.api as sm"
   ]
  },
  {
   "cell_type": "code",
   "execution_count": null,
   "id": "5c1b39c4",
   "metadata": {},
   "outputs": [],
   "source": [
    "# Simple one factor\n",
    "model = ols('adhesion_force ~ C(primer) + C(glue) + C(primer):C(glue)', data=data)\n",
    "result = model.fit()\n",
    "# display(result.summary())\n",
    "table = sm.stats.anova_lm(result, typ=2)\n",
    "table.iloc[:, 3] *= 100 # Pct\n",
    "table.rename(columns={'PR(>F)': 'P(>F) %'}, inplace=True)\n",
    "table.loc['Total', 'sum_sq':'df'] = table.sum(axis=0) # Add a total row\n",
    "table"
   ]
  },
  {
   "cell_type": "code",
   "execution_count": null,
   "id": "0825e857",
   "metadata": {},
   "outputs": [],
   "source": [
    "result.summary().tables[0]"
   ]
  },
  {
   "cell_type": "code",
   "execution_count": null,
   "id": "3eb435fa",
   "metadata": {},
   "outputs": [],
   "source": [
    "display(mqr.anova.groups(data, value='adhesion_force', factor='primer'))\n",
    "display(mqr.anova.groups(data, value='adhesion_force', factor='glue'))"
   ]
  },
  {
   "cell_type": "markdown",
   "id": "db7de6d7",
   "metadata": {},
   "source": [
    "---\n",
    "## Residual analysis"
   ]
  },
  {
   "cell_type": "code",
   "execution_count": null,
   "id": "c9f89c67",
   "metadata": {},
   "outputs": [],
   "source": [
    "# See https://en.wikipedia.org/wiki/Studentized_residual#Internal_and_external_studentization\n",
    "\n",
    "influence = result.get_influence()\n",
    "N = influence.nobs\n",
    "with Figure(8, 4) as (fig, ax):\n",
    "    ax.plot(influence.resid_studentized_internal, linewidth=0, marker='o', fillstyle='none')\n",
    "    ax.plot(influence.resid_studentized_external, linewidth=0, marker='x')\n",
    "    ax.set_ylabel('residuals')\n",
    "\n",
    "    axt = ax.twinx()\n",
    "    axt.bar(range(N), 1-influence.cooks_distance[1], alpha=0.5)\n",
    "    axt.set_ylim(0.0, 1.0)\n",
    "    axt.set_ylabel(\"Cook's distance (1-p)\")\n",
    "\n",
    "    ax.legend(['stud. internal', 'stud. external'])\n",
    "    ax.grid(axis='y')"
   ]
  },
  {
   "cell_type": "code",
   "execution_count": null,
   "id": "2f89ff2d",
   "metadata": {},
   "outputs": [],
   "source": [
    "with Figure(10, 6, 2, 2, height_ratios=[2, 1]) as (fig, ax):\n",
    "    mqr.plot.regression.residuals(result, tr='studentised_external', influence_stat='cooks_dist', axs=ax)"
   ]
  }
 ],
 "metadata": {
  "kernelspec": {
   "display_name": "Python 3 (ipykernel)",
   "language": "python",
   "name": "python3"
  },
  "language_info": {
   "codemirror_mode": {
    "name": "ipython",
    "version": 3
   },
   "file_extension": ".py",
   "mimetype": "text/x-python",
   "name": "python",
   "nbconvert_exporter": "python",
   "pygments_lexer": "ipython3",
   "version": "3.12.4"
  }
 },
 "nbformat": 4,
 "nbformat_minor": 5
}
