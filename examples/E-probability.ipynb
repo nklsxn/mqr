{
 "cells": [
  {
   "cell_type": "code",
   "execution_count": null,
   "id": "3f00e3ca",
   "metadata": {},
   "outputs": [],
   "source": [
    "import mqr\n",
    "from mqr.plot import Figure"
   ]
  },
  {
   "cell_type": "code",
   "execution_count": null,
   "id": "1810ea15",
   "metadata": {},
   "outputs": [],
   "source": [
    "from IPython.display import display"
   ]
  },
  {
   "cell_type": "markdown",
   "id": "09b74a69",
   "metadata": {},
   "source": [
    "# Probabilities"
   ]
  },
  {
   "cell_type": "code",
   "execution_count": null,
   "id": "2fc59fa6",
   "metadata": {},
   "outputs": [],
   "source": [
    "import scipy.stats as st"
   ]
  },
  {
   "cell_type": "code",
   "execution_count": null,
   "id": "b567ecc1",
   "metadata": {},
   "outputs": [],
   "source": [
    "## Binomial\n",
    "\n",
    "# For a population with 0.6 elements classified as \"true\" ...\n",
    "\n",
    "# ... probability of a sample of 10 elements containing exactly 8 classified as \"true\" ...\n",
    "display(st.binom(n=10, p=0.6).pmf(8))\n",
    "\n",
    "# ... probability of a sample of 20 elements containing at least 12 classified as \"true\" ...\n",
    "display(st.binom(n=20, p=0.6).cdf(12))"
   ]
  },
  {
   "cell_type": "code",
   "execution_count": null,
   "id": "26dc61a8",
   "metadata": {},
   "outputs": [],
   "source": [
    "# For a process with λ=23 events on average per unit time ...\n",
    "\n",
    "# ... probability of observing exactly 15 events in a unit of time is:\n",
    "display(st.poisson(23).pmf(15))\n",
    "\n",
    "# ... probability of observing 30 or fewer events in a unit of time is:\n",
    "display(st.poisson(23).cdf(30))\n",
    "\n",
    "# ... with a probability of at least 0.2, expect to observe this many or fewer events in a unit of time:\n",
    "display(st.poisson(23).ppf(0.2))"
   ]
  },
  {
   "cell_type": "code",
   "execution_count": null,
   "id": "d9c816b2",
   "metadata": {},
   "outputs": [],
   "source": [
    "# For a normal distribution with μ=4, σ=8.9 ...\n",
    "\n",
    "# ... probability of a sample being less or equal to 1.3 is:\n",
    "display(st.norm(4, 8.9).cdf(1.3))\n",
    "\n",
    "# ... probability of a sample being greater that 0 is:\n",
    "display(1 - st.norm(4, 8.9).cdf(0))\n",
    "\n",
    "# ... 83% of observations are less than or equal to:\n",
    "display(st.norm(4, 8.9).ppf(0.84))"
   ]
  },
  {
   "cell_type": "code",
   "execution_count": null,
   "id": "b16d0743",
   "metadata": {},
   "outputs": [],
   "source": [
    "# For a sample of size 14, mean=103, std=6 (population stddev unknown) taken from a normal distribution ...\n",
    "\n",
    "# ... the probability of another sample being less or equal to 112 is:\n",
    "display(st.t(14-1).cdf((112-103)/6))\n",
    "\n",
    "# ... the same probability but where the statistics were taken from a sample of size 5 is:\n",
    "display(st.t(5-1).cdf((112-103)/6))\n",
    "\n",
    "# ... (for the same sample size of 5) expect 43% of observations to be less than:\n",
    "display(st.t(5-1).ppf(0.43)*6+103)"
   ]
  },
  {
   "cell_type": "code",
   "execution_count": null,
   "id": "d48bf589",
   "metadata": {},
   "outputs": [],
   "source": [
    "# Let X be the sum of squares of 3 std normal rvs ...\n",
    "\n",
    "# ... the probability of observing a value less than or equal to 3 is:\n",
    "display(st.chi2(3).cdf(3))\n",
    "\n",
    "# ... expect 90% of values to be less or equal to:\n",
    "display(st.chi2(3).ppf(0.9))"
   ]
  },
  {
   "cell_type": "code",
   "execution_count": null,
   "id": "ff0af605",
   "metadata": {},
   "outputs": [],
   "source": [
    "# Let X and Y be chi2 distributed with 6 and 12 dof respectively ...\n",
    "# ... an interesting interpretation that leads to ANOVA is when \n",
    "# X and Y are the squared lengths of vectors with dimensions 6 and 12, respectively,\n",
    "# then the ratio X / Y is f-distributed with 6 and 12 degrees of freedom.\n",
    "\n",
    "# The probability that the ratio of a sample from X to a sample of Y is less or equal to 0.6 is:\n",
    "display(st.f(6, 12).cdf(0.6))\n",
    "\n",
    "# ... the probability that the squared length of X is greater or equal to the squared length of Y is:\n",
    "display(1 - st.f(6, 12).cdf(1.0))"
   ]
  },
  {
   "cell_type": "code",
   "execution_count": null,
   "id": "8420c813",
   "metadata": {},
   "outputs": [],
   "source": [
    "# For a process rate λ=23 events per unit time (Poisson, as above) ...\n",
    "\n",
    "# ... the probability that two events are separated by a \"duration\" of 0.01 time units or less is:\n",
    "display(st.expon(scale=1/23).cdf(0.01))\n",
    "\n",
    "# ... expect only 5% of events to be separated by a duration (in time units) of more than:\n",
    "display(st.expon(scale=1/23).ppf(0.95))"
   ]
  }
 ],
 "metadata": {
  "kernelspec": {
   "display_name": "Python 3 (ipykernel)",
   "language": "python",
   "name": "python3"
  },
  "language_info": {
   "codemirror_mode": {
    "name": "ipython",
    "version": 3
   },
   "file_extension": ".py",
   "mimetype": "text/x-python",
   "name": "python",
   "nbconvert_exporter": "python",
   "pygments_lexer": "ipython3",
   "version": "3.12.4"
  }
 },
 "nbformat": 4,
 "nbformat_minor": 5
}
