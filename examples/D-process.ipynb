{
 "cells": [
  {
   "cell_type": "code",
   "execution_count": null,
   "id": "490a1396",
   "metadata": {},
   "outputs": [],
   "source": [
    "import mqr\n",
    "from mqr.plot import Figure\n",
    "from mqr.nbtools import hstack, vstack"
   ]
  },
  {
   "cell_type": "code",
   "execution_count": null,
   "id": "e3e8e171",
   "metadata": {},
   "outputs": [],
   "source": [
    "from IPython.display import display"
   ]
  },
  {
   "cell_type": "markdown",
   "id": "1f7be362",
   "metadata": {},
   "source": [
    "# Datasets"
   ]
  },
  {
   "cell_type": "code",
   "execution_count": null,
   "id": "c1405351",
   "metadata": {},
   "outputs": [],
   "source": [
    "import pandas as pd\n",
    "\n",
    "data = pd.read_csv(mqr.sample_data('study-random-5x5.csv'))"
   ]
  },
  {
   "cell_type": "markdown",
   "id": "0375280e",
   "metadata": {},
   "source": [
    "# Process"
   ]
  },
  {
   "cell_type": "code",
   "execution_count": null,
   "id": "a9b7bf28",
   "metadata": {},
   "outputs": [],
   "source": [
    "from mqr.summary import Sample, Study\n",
    "from mqr.process import Process, Specification"
   ]
  },
  {
   "cell_type": "code",
   "execution_count": null,
   "id": "933d0434-0d9c-4c4a-a52c-26b8beeec974",
   "metadata": {},
   "outputs": [],
   "source": [
    "# Just a sample\n",
    "sample = Sample(data['KPO1'])\n",
    "sample"
   ]
  },
  {
   "cell_type": "code",
   "execution_count": null,
   "id": "a46e6edf",
   "metadata": {},
   "outputs": [],
   "source": [
    "study = Study(data, measurements=['KPI1', 'KPI2', 'KPI3', 'KPO1', 'KPO2'])\n",
    "study"
   ]
  },
  {
   "cell_type": "code",
   "execution_count": null,
   "id": "0e3eb027",
   "metadata": {},
   "outputs": [],
   "source": [
    "import numpy as np\n",
    "import pickle\n",
    "\n",
    "# Use the mean and covariance from the random generator\n",
    "# to construct some good and bad processes\n",
    "with open(mqr.sample_data('study-random-5x5-mean-cov.pkl'), 'rb') as f:\n",
    "    mean, cov = pickle.load(f)\n",
    "\n",
    "offset2 = 2*np.sqrt(cov[2, 2])"
   ]
  },
  {
   "cell_type": "markdown",
   "id": "25cb5070",
   "metadata": {},
   "source": [
    "---\n",
    "The `Process` type is a model of a process with various input and output quantities. It calculates metrics like capability and expected defect rate."
   ]
  },
  {
   "cell_type": "code",
   "execution_count": null,
   "id": "f867bd93",
   "metadata": {},
   "outputs": [],
   "source": [
    "import numpy as np\n",
    "\n",
    "specs = {\n",
    "    'KPI1': Specification(mean[0], mean[0]-np.sqrt(cov[0,0])*6, mean[0]+np.sqrt(cov[0,0])*6),\n",
    "    'KPI2': Specification(mean[1], mean[1]-np.sqrt(cov[1,1])*6, mean[1]+np.sqrt(cov[1,1])*6),\n",
    "    'KPI3': Specification(mean[2]+offset2, mean[2]-np.sqrt(cov[2,2])*6+offset2, mean[2]+np.sqrt(cov[2,2])*6+offset2),\n",
    "    'KPO1': Specification(mean[3], mean[3]-np.sqrt(cov[3,3])*6, mean[3]+np.sqrt(cov[3,3])*6),\n",
    "    'KPO2': Specification(mean[4], mean[4]-np.sqrt(cov[4,4])*2, mean[4]+np.sqrt(cov[4,4])*2),\n",
    "}\n",
    "p = Process(study, specs)\n",
    "p"
   ]
  },
  {
   "cell_type": "markdown",
   "id": "769b1792",
   "metadata": {},
   "source": [
    "---\n",
    "The main process overlays:\n",
    "* short- and long-term fitted Gaussians, and \n",
    "* specification limits."
   ]
  },
  {
   "cell_type": "code",
   "execution_count": null,
   "id": "07127818",
   "metadata": {},
   "outputs": [],
   "source": [
    "with Figure(6, 4, 2, 1) as (fig, ax):\n",
    "    mqr.plot.process.pdf(study['KPI1'], specs['KPI1'], p.capabilities['KPI1'], show_long_term=True, ax=ax[0])\n",
    "    mqr.plot.process.tolerance(specs['KPI1'], ax=ax[1])"
   ]
  },
  {
   "cell_type": "markdown",
   "id": "c0ee72b3",
   "metadata": {},
   "source": [
    "---\n",
    "The overlays on top of histograms"
   ]
  },
  {
   "cell_type": "code",
   "execution_count": null,
   "id": "f246ec78",
   "metadata": {},
   "outputs": [],
   "source": [
    "with Figure(7, 6, 3, 1) as (fig, ax):\n",
    "    mqr.plot.process.capability(p, 'KPI1', show_long_term=True, ax=ax[0])\n",
    "    mqr.plot.process.capability(p, 'KPI3', show_long_term=True, ax=ax[1])\n",
    "    mqr.plot.process.capability(p, 'KPO2', show_long_term=False, ax=ax[2])"
   ]
  },
  {
   "cell_type": "markdown",
   "id": "8e312d1f",
   "metadata": {},
   "source": [
    "---\n",
    "Correlations between all KPIs and KPOs"
   ]
  },
  {
   "cell_type": "code",
   "execution_count": null,
   "id": "9a10fdd1",
   "metadata": {},
   "outputs": [],
   "source": [
    "with Figure(7, 7, 5, 5) as (fig, ax):\n",
    "    mqr.plot.correlation.matrix(\n",
    "        study.get_data(),\n",
    "        show_conf=True,\n",
    "        conf=0.95,\n",
    "        ax=ax)"
   ]
  },
  {
   "cell_type": "markdown",
   "id": "38dff940",
   "metadata": {},
   "source": [
    "---\n",
    "# Scatter plot"
   ]
  },
  {
   "cell_type": "code",
   "execution_count": null,
   "id": "0ed46fe8",
   "metadata": {},
   "outputs": [],
   "source": [
    "with Figure(3, 3) as (fig, ax):\n",
    "    ax.scatter(data['KPI2'], data['KPO2'])"
   ]
  },
  {
   "cell_type": "markdown",
   "id": "19aa51c9",
   "metadata": {},
   "source": [
    "---\n",
    "# Probability plots"
   ]
  },
  {
   "cell_type": "code",
   "execution_count": null,
   "id": "d69b2c52",
   "metadata": {},
   "outputs": [],
   "source": [
    "import scipy.stats as st\n",
    "from statsmodels.api import ProbPlot\n",
    "\n",
    "with Figure(3, 3) as (fig, ax):\n",
    "    gen = ProbPlot(\n",
    "        data['KPI1'],\n",
    "        dist=st.norm,\n",
    "        fit=True)\n",
    "    gen.probplot(line='s', ax=ax)"
   ]
  },
  {
   "cell_type": "markdown",
   "id": "ff438c5c-adb0-480b-a2ed-87d05122965d",
   "metadata": {},
   "source": [
    "The library `reliability` (for reliability modelling) is excellent. Unfortunately, its plotting interface doesn't allow plotting into axes that have already been created (for example with `matplitlib.pyplot.subplots` or `mqr.plots.Figure`). Instead, `reliability` returns the figure, then it can be manipulated."
   ]
  },
  {
   "cell_type": "code",
   "execution_count": null,
   "id": "ffb745e0-e97e-410c-9d3c-f1a14f9a902a",
   "metadata": {},
   "outputs": [],
   "source": [
    "from reliability.Probability_plotting import Normal_probability_plot\n",
    "fig = Normal_probability_plot(data['KPI1'].values)\n",
    "fig.set_size_inches(5, 4)\n",
    "ax = fig.get_axes()\n",
    "ax[0].set_xlabel('KPI1')\n",
    "ax[0].set_ylabel('Fraction below')\n",
    "plot = mqr.nbtools.grab_figure(fig)\n",
    "\n",
    "hstack(plot, data.head())"
   ]
  },
  {
   "cell_type": "markdown",
   "id": "8caa6603",
   "metadata": {},
   "source": [
    "---\n",
    "## Grouped probability plots\n",
    "The grouped probability plots provided by `mqr` show subsets of a dataframe,\n",
    "but each subset is shown on a plot whose statistics were calculated from the whole dataset.\n",
    "\n",
    "In the examples below, the cdf lines and the quantile points are calculated from the whole dataset."
   ]
  },
  {
   "cell_type": "code",
   "execution_count": null,
   "id": "e17cf902",
   "metadata": {},
   "outputs": [],
   "source": [
    "grp = [\n",
    "    data['operator'] == 'Op A',\n",
    "    data['operator'] == 'Op B'\n",
    "]"
   ]
  },
  {
   "cell_type": "markdown",
   "id": "33e68eda",
   "metadata": {},
   "source": [
    "CDF lines"
   ]
  },
  {
   "cell_type": "code",
   "execution_count": null,
   "id": "19322322",
   "metadata": {},
   "outputs": [],
   "source": [
    "with Figure(6, 3, 1, 2) as (fig, ax):\n",
    "    mqr.plot.probplot.pp_grp(data['KPO1'], grp=grp, grp_ax=ax)\n",
    "    mqr.plot.probplot.pp_grp_cdfline(data['KPO1'], grp_ax=ax)\n",
    "    \n",
    "    ax[0].set_xlabel('KPO1 (Op A)')\n",
    "    ax[1].set_xlabel('KPO1 (Op B)')"
   ]
  },
  {
   "cell_type": "markdown",
   "id": "5cf0bfbf",
   "metadata": {},
   "source": [
    "Lines through quantiles"
   ]
  },
  {
   "cell_type": "code",
   "execution_count": null,
   "id": "ed08280f",
   "metadata": {},
   "outputs": [],
   "source": [
    "grp_kwargs = [\n",
    "    {'color': 'C1', 'marker': 'o'},\n",
    "    {'color': 'C3', 'marker': 's'},\n",
    "]\n",
    "\n",
    "with Figure(6, 3, 1, 2) as (fig, ax):\n",
    "    mqr.plot.probplot.pp_grp(data['KPO2'], grp=grp, grp_kwargs=grp_kwargs, grp_ax=ax)\n",
    "    mqr.plot.probplot.pp_grp_qline(data['KPO2'], grp_ax=ax)\n",
    "    \n",
    "    ax[0].set_xlabel('KPO2 (Op A)')\n",
    "    ax[1].set_xlabel('KPO2 (Op B)')"
   ]
  }
 ],
 "metadata": {
  "kernelspec": {
   "display_name": "Python 3 (ipykernel)",
   "language": "python",
   "name": "python3"
  },
  "language_info": {
   "codemirror_mode": {
    "name": "ipython",
    "version": 3
   },
   "file_extension": ".py",
   "mimetype": "text/x-python",
   "name": "python",
   "nbconvert_exporter": "python",
   "pygments_lexer": "ipython3",
   "version": "3.12.4"
  }
 },
 "nbformat": 4,
 "nbformat_minor": 5
}
