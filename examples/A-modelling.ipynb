{
 "cells": [
  {
   "cell_type": "code",
   "execution_count": null,
   "id": "057bf267-0add-46ac-a836-18e87dbdab5c",
   "metadata": {},
   "outputs": [],
   "source": [
    "import mqr\n",
    "from mqr.plot import Figure"
   ]
  },
  {
   "cell_type": "markdown",
   "id": "4503084a",
   "metadata": {},
   "source": [
    "---\n",
    "# Fishbone diagrams"
   ]
  },
  {
   "cell_type": "code",
   "execution_count": null,
   "id": "470fc2b7",
   "metadata": {},
   "outputs": [],
   "source": [
    "problem = 'Problem'\n",
    "causes = {\n",
    "    'Method': ['Time consumption', 'Cost', 'Procedures', 'Inefficient process', 'Sampling'],\n",
    "    'Machine': ['Faulty equipment', 'Compatibility'],\n",
    "    'Material': ['Poor-quality input', 'Raw materials', 'Supplier', 'Shortage'],\n",
    "    'Measurement': ['Calibration', 'Performance', 'Bad measurements'],\n",
    "    'Environment': ['Bad conditions'],\n",
    "    'People': ['Lack of training', 'Managers', 'Labor shortage', 'Procedures', 'Sales strategy'],\n",
    "}\n",
    "\n",
    "# Show default config; update any parameter by passing conf argument\n",
    "display(mqr.plot.lib.ishikawa.default_ishikawa_config())\n",
    "conf = {'bone_space': 10.0, 'padding': (0, 0, 0, 0)}\n",
    "\n",
    "# A document on A4 with 20mm margins on each side of the main text width.\n",
    "# LaTeX will print points to the console when `\\showthe\\textwidth` is included in the document body.\n",
    "w, h = mqr.plot.figure.mm_to_inches(170)\n",
    "# w, h = mqr.plot.figure.points_to_inches(481.88976378)\n",
    "\n",
    "with Figure(w, h) as (fig, ax):\n",
    "# with Figure(w, h, backend='pdf', filename='ishikawa.pdf') as (fig, ax):\n",
    "# with Figure(w, h, backend='pgf', filename='ishikawa.pgf') as (fig, ax):\n",
    "    mqr.plot.ishikawa(problem, causes, conf=conf, ax=ax)"
   ]
  }
 ],
 "metadata": {
  "kernelspec": {
   "display_name": "Python 3 (ipykernel)",
   "language": "python",
   "name": "python3"
  },
  "language_info": {
   "codemirror_mode": {
    "name": "ipython",
    "version": 3
   },
   "file_extension": ".py",
   "mimetype": "text/x-python",
   "name": "python",
   "nbconvert_exporter": "python",
   "pygments_lexer": "ipython3",
   "version": "3.12.4"
  }
 },
 "nbformat": 4,
 "nbformat_minor": 5
}
