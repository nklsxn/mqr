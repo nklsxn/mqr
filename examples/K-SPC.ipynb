{
 "cells": [
  {
   "cell_type": "code",
   "execution_count": null,
   "id": "8c340859",
   "metadata": {},
   "outputs": [],
   "source": [
    "import mqr\n",
    "from mqr.plot import Figure"
   ]
  },
  {
   "cell_type": "code",
   "execution_count": null,
   "id": "f9629b37",
   "metadata": {},
   "outputs": [],
   "source": [
    "# Data and calculation libraries\n",
    "import numpy as np\n",
    "import pandas as pd\n",
    "import scipy.stats as st"
   ]
  },
  {
   "cell_type": "markdown",
   "id": "8515e9fe",
   "metadata": {},
   "source": [
    "---\n",
    "# A process converging to a new mean"
   ]
  },
  {
   "cell_type": "code",
   "execution_count": null,
   "id": "667f65ad",
   "metadata": {},
   "outputs": [],
   "source": [
    "np.random.seed(234)\n",
    "\n",
    "xs = np.linspace(0, 30, 30)[:, None]\n",
    "ys = np.exp(-xs+20) / (1 + np.exp(-xs+20)) / 8 + 0.875 + st.norm().rvs([30, 5]) * 0.08\n",
    "\n",
    "df = pd.DataFrame(\n",
    "    data=ys,\n",
    "    columns=['Obs1', 'Obs2', 'Obs3', 'Obs4', 'Obs5'])"
   ]
  },
  {
   "cell_type": "code",
   "execution_count": null,
   "id": "d4a4562c",
   "metadata": {},
   "outputs": [],
   "source": [
    "xbar = mqr.spc.XBarParams.from_data(df.iloc[:15, :])\n",
    "stat = xbar.statistic(df)\n",
    "\n",
    "with Figure(8, 3) as (fig, ax):\n",
    "    mqr.plot.spc.chart(stat, xbar, ax)\n",
    "    mqr.plot.spc.alarms(stat, xbar, mqr.spc.rules.limits, ax)\n",
    "    \n",
    "    # Mark the \"historical\" region in blue\n",
    "    ax.axvspan(-0.5, 15.5, alpha=0.2, zorder=-1)"
   ]
  },
  {
   "cell_type": "markdown",
   "id": "19770409",
   "metadata": {},
   "source": [
    "---\n",
    "# A process with increasing variability\n",
    "* Random samples of size 10, with increasing variance after the first 15 samples.\n",
    "* The first 15 samples are used as historical data to calculate control limits."
   ]
  },
  {
   "cell_type": "code",
   "execution_count": null,
   "id": "311283a9",
   "metadata": {},
   "outputs": [],
   "source": [
    "# Samples of size 10\n",
    "\n",
    "np.random.seed(2345)\n",
    "\n",
    "noise = np.full([30, 10], 10.0)\n",
    "noise[:15] = st.norm(10.0, 0.01).rvs([15, 10])\n",
    "for i in range(15, 30):\n",
    "    factor = 1 + (i - 15) / 10\n",
    "    noise[i, :] = st.norm(10, 0.01*factor).rvs([1, 10])\n",
    "ys = noise\n",
    "\n",
    "df = pd.DataFrame(\n",
    "    data=ys,\n",
    "    columns=[f'Obs{n}' for n in range(10)])"
   ]
  },
  {
   "cell_type": "code",
   "execution_count": null,
   "id": "7ef3f6d8",
   "metadata": {},
   "outputs": [],
   "source": [
    "with Figure(8, 3) as (fig, ax):\n",
    "    ax.plot(df, linewidth=0, marker='.', color='C0')"
   ]
  },
  {
   "cell_type": "code",
   "execution_count": null,
   "id": "f9e0f81a",
   "metadata": {},
   "outputs": [],
   "source": [
    "s = mqr.spc.SParams.from_data(df.iloc[:15, :])\n",
    "stat = s.statistic(df)\n",
    "\n",
    "with Figure(8, 3) as (fig, ax):\n",
    "    mqr.plot.spc.chart(stat, s, ax)\n",
    "    mqr.plot.spc.alarms(stat, s, mqr.spc.rules.limits, ax)\n",
    "\n",
    "    # Mark the historical region with blue\n",
    "    ax.axvspan(-0.5, 15.5, alpha=0.2, zorder=-1)"
   ]
  },
  {
   "cell_type": "markdown",
   "id": "a8a3a8f7",
   "metadata": {},
   "source": [
    "---\n",
    "# An OC curve"
   ]
  },
  {
   "cell_type": "code",
   "execution_count": null,
   "id": "13157c6b",
   "metadata": {},
   "outputs": [],
   "source": [
    "with Figure(8, 3) as (fig, ax):\n",
    "    mqr.plot.spc.oc(n=40, c=6, defect_range=(0, 0.3), ax=ax)"
   ]
  }
 ],
 "metadata": {
  "kernelspec": {
   "display_name": "Python 3 (ipykernel)",
   "language": "python",
   "name": "python3"
  },
  "language_info": {
   "codemirror_mode": {
    "name": "ipython",
    "version": 3
   },
   "file_extension": ".py",
   "mimetype": "text/x-python",
   "name": "python",
   "nbconvert_exporter": "python",
   "pygments_lexer": "ipython3",
   "version": "3.12.4"
  }
 },
 "nbformat": 4,
 "nbformat_minor": 5
}
