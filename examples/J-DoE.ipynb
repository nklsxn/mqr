{
 "cells": [
  {
   "cell_type": "code",
   "execution_count": null,
   "id": "83a328b8",
   "metadata": {},
   "outputs": [],
   "source": [
    "import mqr\n",
    "from mqr.nbtools import vstack\n",
    "from mqr.plot import Figure"
   ]
  },
  {
   "cell_type": "code",
   "execution_count": null,
   "id": "de821a57",
   "metadata": {},
   "outputs": [],
   "source": [
    "# Data and calculation libraries\n",
    "import numpy as np\n",
    "import pandas as pd\n",
    "import scipy.stats as st\n",
    "import statsmodels.formula.api as smf\n",
    "import statsmodels.api as sm"
   ]
  },
  {
   "cell_type": "markdown",
   "id": "baa53c3b",
   "metadata": {},
   "source": [
    "---\n",
    "# DoE"
   ]
  },
  {
   "cell_type": "markdown",
   "id": "b13f2c5d",
   "metadata": {},
   "source": [
    "The `mqr` library provides a wrapper around pyDOE3 that makes the designs easy to combine and then use in a DataFrame for saving, loading with observations/experimental results.\n",
    "\n",
    "The features are:\n",
    "* creation from pyDOE3 functions fullfact, fracfact and ccdesign,\n",
    "* labelling with point types, for easy management in analysis,\n",
    "* transforming from labels to physical values, for easier experimental technique,\n",
    "* easy concatenation and blocking.\n",
    "\n",
    "The main type is `mqr.doe.Design`.  \n",
    "To concatenate designs use a plus symbol: `design1 + design2`.  \n",
    "To block designs, either pass the block number when creating the design (`Design.from_fullfact(..., block=1)`),\n",
    "or change the block for a design using `design.as_block(...)`.  \n",
    "To randomise a design, call `design.randomise_runs()`, which preserves blocks by default.  \n",
    "To scale labels to physical values, define a `mqr.doe.Transform` and apply it to a design like matrix multiplication `Design @ Transform`."
   ]
  },
  {
   "cell_type": "markdown",
   "id": "c52a13db",
   "metadata": {},
   "source": [
    "---\n",
    "## Experimental workflow\n",
    "1. Design the experiment using the tools in mqr.doe (or pyDOE3 directly).\n",
    "1. Randomise the runs.\n",
    "1. Save the design to a _design file_, and append the experimental observations as a new column to make an _experiment file_.\n",
    "1. (optional) Instead of creating a new file, get the dataframe version of a design and enter data directly into the notebook as an extra column on the dataframe: `design['Observation'] = np.array([...])`\n",
    "1. Load the _experiment file_ (if you created one) ready for analysis with ANOVA and regression tools."
   ]
  },
  {
   "cell_type": "markdown",
   "id": "22d39bc3",
   "metadata": {},
   "source": [
    "---"
   ]
  },
  {
   "cell_type": "code",
   "execution_count": null,
   "id": "ba967c78",
   "metadata": {},
   "outputs": [],
   "source": [
    "from mqr.doe import Design"
   ]
  },
  {
   "cell_type": "markdown",
   "id": "d48b33cf",
   "metadata": {},
   "source": [
    "### 1 Fractional Factorial Design"
   ]
  },
  {
   "cell_type": "code",
   "execution_count": null,
   "id": "5f3f39ba",
   "metadata": {},
   "outputs": [],
   "source": [
    "names = var_list = ['x1', 'x2', 'x3', 'x4', 'x5', 'x6']\n",
    "gen = 'a b c d abcd abc'\n",
    "\n",
    "Design.from_fracfact(names, gen)"
   ]
  },
  {
   "cell_type": "markdown",
   "id": "c24bdba5",
   "metadata": {},
   "source": [
    "### 2 Fractional Factorial with Centre Points"
   ]
  },
  {
   "cell_type": "code",
   "execution_count": null,
   "id": "bd7597f3",
   "metadata": {},
   "outputs": [],
   "source": [
    "names = ['x1', 'x2', 'x3', 'x4', 'x5', 'x6']\n",
    "gen = 'a b c d abcd abc'\n",
    "nc = 3\n",
    "\n",
    "Design.from_fracfact(names, gen) + Design.from_centrepoints(names, nc)"
   ]
  },
  {
   "cell_type": "markdown",
   "id": "91687f37",
   "metadata": {},
   "source": [
    "### 3 Central Composite Design — Full Factorial\n",
    "With blocking"
   ]
  },
  {
   "cell_type": "code",
   "execution_count": null,
   "id": "2f6d1346",
   "metadata": {},
   "outputs": [],
   "source": [
    "names = ['x1', 'x2', 'x3', 'x4']\n",
    "levels = [2, 2, 2, 2]\n",
    "nc = 3\n",
    "\n",
    "blk1 = Design.from_fullfact(names, levels) + Design.from_centrepoints(names, nc)\n",
    "blk2 = Design.from_axial(names) + Design.from_centrepoints(names, nc)\n",
    "design = blk1.as_block(1) + blk2.as_block(2)\n",
    "design"
   ]
  },
  {
   "cell_type": "markdown",
   "id": "0c9198ea",
   "metadata": {},
   "source": [
    "### 4 Central Composite Design — Fractional Factorial\n",
    "With blocking"
   ]
  },
  {
   "cell_type": "code",
   "execution_count": null,
   "id": "f493c461",
   "metadata": {},
   "outputs": [],
   "source": [
    "names = ['x1', 'x2', 'x3', 'x4']\n",
    "gen = 'a b c abc'\n",
    "nc = 3\n",
    "\n",
    "blk1 = Design.from_fracfact(names, gen) + Design.from_centrepoints(names, nc)\n",
    "blk2 = Design.from_axial(names) + Design.from_centrepoints(names, nc)\n",
    "design = blk1.as_block(1) + blk2.as_block(2)\n",
    "design"
   ]
  },
  {
   "cell_type": "markdown",
   "id": "10c5193f",
   "metadata": {},
   "source": [
    "---\n",
    "# Practicalities"
   ]
  },
  {
   "cell_type": "markdown",
   "id": "797e17ad",
   "metadata": {},
   "source": [
    "### 5 Replicating the runs\n",
    "The optional argument `label` adds a column that labels replicates."
   ]
  },
  {
   "cell_type": "code",
   "execution_count": null,
   "id": "918b94dc-f54e-418d-8d5f-4c9d9da04c31",
   "metadata": {},
   "outputs": [],
   "source": [
    "blk1.replicate(2, label='Rep')"
   ]
  },
  {
   "cell_type": "markdown",
   "id": "a2f5ba82",
   "metadata": {},
   "source": [
    "### 6 Randomising the runs\n",
    "Rearrange the rows of a dataframe by calling `design.randomise_runs()`.\n",
    "Blocks or factor levels can be kept in order by including the name of the block or factor in the list `order`.\n",
    "This example keeps blocks in order, and also `x1` is ordered per block\n",
    "(`block` is specified before `x1` in the ordering list to give it priority).\n",
    "The remaining factors `x2`, `x3` and `x4` are randomised within blocks and `x1` levels."
   ]
  },
  {
   "cell_type": "code",
   "execution_count": null,
   "id": "5a9f7e81",
   "metadata": {},
   "outputs": [],
   "source": [
    "np.random.seed(1234) # Warning: seeding the random number generator will produce the same ordering every run\n",
    "design = blk1.as_block(1) + blk2.as_block(2) + blk1.as_block(3) + blk2.as_block(4)\n",
    "# design.randomise_runs() # this would completely randomise all runs\n",
    "design.randomise_runs('Block', 'x1')"
   ]
  },
  {
   "cell_type": "markdown",
   "id": "2afd785e",
   "metadata": {},
   "source": [
    "### 7 Transforming the level labels to physical values\n",
    "Writing down exactly which values correspond to each level is convenient for careful experimental technique.\n",
    "These values can be read off a screen or printed while conducting an actual experiment.\n",
    "\n",
    "First, define a transform that maps the levels that correspond to each label\n",
    "(when `mqr.doe` constructs a transform from labels like below, it assumes the transform is affine).\n",
    "\n",
    "The transforms can be callable objects like a lambda, function or `mqr.doe.Transorm`.\n",
    "Or they can be dicts that give a mapped value for every coded level.\n",
    "\n",
    "This example transforms `x1` with an affine transform, `x2` with an affine transform that is inversely proportional to the coded variable and `x4` with a categorical value. The factor `x3` is left in coded units."
   ]
  },
  {
   "cell_type": "code",
   "execution_count": null,
   "id": "bce8206d",
   "metadata": {},
   "outputs": [],
   "source": [
    "from mqr.doe import Transform\n",
    "\n",
    "design = mqr.doe.Design.from_fullfact(names, levels)\n",
    "\n",
    "transforms = {\n",
    "    'x1': Transform.from_map({-1:100, 1:110}),\n",
    "    'x2': lambda x: -x + 5,\n",
    "    'x4': {-1: 'low', 1: 'high'},\n",
    "}\n",
    "\n",
    "design.transform(**transforms)"
   ]
  },
  {
   "cell_type": "markdown",
   "id": "f43bef28",
   "metadata": {},
   "source": [
    "### 8 Save the experimental design to file for printing etc.\n",
    "The `index_label` argument in `DataFrame.to_csv(...)` tells Pandas to include the index column with the given name."
   ]
  },
  {
   "cell_type": "code",
   "execution_count": null,
   "id": "7c8a0fb3",
   "metadata": {},
   "outputs": [],
   "source": [
    "# np.random.randint(0, 2**32-1)\n",
    "\n",
    "np.random.seed(1294194915) # Randomly generated seed (above)\n",
    "frozen_design = design.randomise_runs().to_df()\n",
    "frozen_design.to_csv(\n",
    "    'doe-section6-1294194915.csv',\n",
    "    index_label='run')\n",
    "frozen_design.to_excel(\n",
    "    'doe-section6-1294194915.xlsx',\n",
    "    index_label='run')"
   ]
  }
 ],
 "metadata": {
  "kernelspec": {
   "display_name": "Python 3 (ipykernel)",
   "language": "python",
   "name": "python3"
  },
  "language_info": {
   "codemirror_mode": {
    "name": "ipython",
    "version": 3
   },
   "file_extension": ".py",
   "mimetype": "text/x-python",
   "name": "python",
   "nbconvert_exporter": "python",
   "pygments_lexer": "ipython3",
   "version": "3.12.4"
  }
 },
 "nbformat": 4,
 "nbformat_minor": 5
}
