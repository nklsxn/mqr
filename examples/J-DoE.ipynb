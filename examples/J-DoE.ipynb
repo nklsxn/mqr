{
 "cells": [
  {
   "cell_type": "code",
   "execution_count": null,
   "id": "83a328b8",
   "metadata": {},
   "outputs": [],
   "source": [
    "import mqr\n",
    "from mqr.plot import Figure"
   ]
  },
  {
   "cell_type": "code",
   "execution_count": null,
   "id": "de821a57",
   "metadata": {},
   "outputs": [],
   "source": [
    "# Data and calculation libraries\n",
    "import numpy as np\n",
    "import pandas as pd\n",
    "import scipy.stats as st\n",
    "import statsmodels.formula.api as smf\n",
    "import statsmodels.api as sm"
   ]
  },
  {
   "cell_type": "markdown",
   "id": "baa53c3b",
   "metadata": {},
   "source": [
    "---\n",
    "# DoE"
   ]
  },
  {
   "cell_type": "markdown",
   "id": "b13f2c5d",
   "metadata": {},
   "source": [
    "The `mqr` library provides a wrapper around pyDOE3 that makes the designs easy to combine and then use in a DataFrame for saving, loading with observations/experimental results.\n",
    "\n",
    "The features are:\n",
    "* creation from pyDOE3 functions fullfact, fracfact and ccdesign,\n",
    "* labelling with point types, for easy management in analysis,\n",
    "* transforming from labels to physical values, for easier experimental technique,\n",
    "* easy concatenation and blocking.\n",
    "\n",
    "The main type is `mqr.doe.Design`.  \n",
    "To concatenate designs use a plus symbol: `design1 + design2`.  \n",
    "To block designs, either pass the block number when creating the design (`Design.from_fullfact(..., block=1)`),\n",
    "or change the block for a design using `design.as_block(...)`.  \n",
    "To randomise a design, call `design.randomise_runs()`, which preserves blocks by default.  \n",
    "To scale labels to physical values, define a `mqr.doe.Transform` and apply it to a design like matrix multiplication `Design @ Transform`."
   ]
  },
  {
   "cell_type": "markdown",
   "id": "c52a13db",
   "metadata": {},
   "source": [
    "---\n",
    "## Experimental workflow\n",
    "1. Design the experiment using the tools in mqr.doe (or pyDOE3 directly).\n",
    "1. Randomise the runs.\n",
    "1. Save the design to a _design file_, and append the experimental observations as a new column to make an _experiment file_.\n",
    "1. (optional) Instead of creating a new file, get the dataframe version of a design and enter data directly into the notebook as an extra column on the dataframe: `design['Observation'] = np.array([...])`\n",
    "1. Load the _experiment file_ (if you created one) ready for analysis with ANOVA and regression tools."
   ]
  },
  {
   "cell_type": "markdown",
   "id": "22d39bc3",
   "metadata": {},
   "source": [
    "---"
   ]
  },
  {
   "cell_type": "code",
   "execution_count": null,
   "id": "ba967c78",
   "metadata": {},
   "outputs": [],
   "source": [
    "from mqr.doe import Design"
   ]
  },
  {
   "cell_type": "markdown",
   "id": "d48b33cf",
   "metadata": {},
   "source": [
    "### 1 Fractional Factorial Design"
   ]
  },
  {
   "cell_type": "code",
   "execution_count": null,
   "id": "5f3f39ba",
   "metadata": {},
   "outputs": [],
   "source": [
    "names = var_list = ['x1', 'x2', 'x3', 'x4', 'x5', 'x6']\n",
    "gen = 'a b c d abcd abc'\n",
    "\n",
    "Design.from_fracfact(names, gen)"
   ]
  },
  {
   "cell_type": "markdown",
   "id": "c24bdba5",
   "metadata": {},
   "source": [
    "### 2 Fractional Factorial with Centre Points"
   ]
  },
  {
   "cell_type": "code",
   "execution_count": null,
   "id": "bd7597f3",
   "metadata": {},
   "outputs": [],
   "source": [
    "names = ['x1', 'x2', 'x3', 'x4', 'x5', 'x6']\n",
    "gen = 'a b c d abcd abc'\n",
    "nc = 3\n",
    "\n",
    "Design.from_fracfact(names, gen) + Design.from_centrepoints(names, nc)"
   ]
  },
  {
   "cell_type": "markdown",
   "id": "91687f37",
   "metadata": {},
   "source": [
    "### 3 Central Composite Design — Full Factorial\n",
    "With blocking"
   ]
  },
  {
   "cell_type": "code",
   "execution_count": null,
   "id": "2f6d1346",
   "metadata": {},
   "outputs": [],
   "source": [
    "names = ['x1', 'x2', 'x3', 'x4']\n",
    "levels = [2, 2, 2, 2]\n",
    "nc = 3\n",
    "\n",
    "blk1 = Design.from_fullfact(names, levels) + Design.from_centrepoints(names, nc)\n",
    "blk2 = Design.from_axial(names) + Design.from_centrepoints(names, nc)\n",
    "design = blk1 + blk2.as_block(2)\n",
    "design"
   ]
  },
  {
   "cell_type": "markdown",
   "id": "0c9198ea",
   "metadata": {},
   "source": [
    "### 4 Central Composite Design — Fractional Factorial\n",
    "With blocking"
   ]
  },
  {
   "cell_type": "code",
   "execution_count": null,
   "id": "f493c461",
   "metadata": {},
   "outputs": [],
   "source": [
    "names = ['x1', 'x2', 'x3', 'x4']\n",
    "gen = 'a b c abc'\n",
    "nc = 3\n",
    "\n",
    "blk1 = Design.from_fracfact(names, gen) + Design.from_centrepoints(names, nc)\n",
    "blk2 = Design.from_axial(names) + Design.from_centrepoints(names, nc)\n",
    "design = blk1 + blk2.as_block(2)\n",
    "design"
   ]
  },
  {
   "cell_type": "markdown",
   "id": "10c5193f",
   "metadata": {},
   "source": [
    "---\n",
    "# Practicalities"
   ]
  },
  {
   "cell_type": "markdown",
   "id": "797e17ad",
   "metadata": {},
   "source": [
    "### 5 Replicating the runs"
   ]
  },
  {
   "cell_type": "code",
   "execution_count": null,
   "id": "db3dbd71",
   "metadata": {},
   "outputs": [],
   "source": [
    "blk1.replicate(2)"
   ]
  },
  {
   "cell_type": "markdown",
   "id": "a2f5ba82",
   "metadata": {},
   "source": [
    "### 6 Randomising the runs\n",
    "Rearrange the rows of a dataframe by calling `df.sample(frac=1)`. The `frac` argument is what proportion of the rows to return."
   ]
  },
  {
   "cell_type": "code",
   "execution_count": null,
   "id": "5a9f7e81",
   "metadata": {},
   "outputs": [],
   "source": [
    "np.random.seed(1234) # Warning: seeding the random number generator will produce the same ordering every run\n",
    "design = blk1 + blk2.as_block(2) + blk1.as_block(3) + blk2.as_block(4)\n",
    "design.randomise_runs()"
   ]
  },
  {
   "cell_type": "markdown",
   "id": "2afd785e",
   "metadata": {},
   "source": [
    "### 7 Transforming the level labels to physical values\n",
    "While linear transformations don't effect the regression (the result will just be in different units),\n",
    "writing down exactly which values correspond to each level might be convenient for careful, disciplined experimental technique.\n",
    "\n",
    "The difference between linear ($y = Ax$) and affine ($y = Ax + b$) makes a difference here.\n",
    "If after translating the experiment (by $b$), the response surface doesn't go through the origin,\n",
    "a constant/intercept term should be included in the regression.\n",
    "In the examples below, the regression is performed in label units/label-space.\n",
    "\n",
    "First, define a transform that maps the levels that correspond to each label\n",
    "(when `mqr.doe` constructs a transform from labels like below, it assumes the transfrom is affine).\n",
    "Then, apply the transform to the design using the matrix multiplication operator."
   ]
  },
  {
   "cell_type": "code",
   "execution_count": null,
   "id": "bce8206d",
   "metadata": {},
   "outputs": [],
   "source": [
    "from mqr.doe import Transform\n",
    "\n",
    "# Constructs an affine transformation in the same order as design.names\n",
    "tr = Transform.from_map([\n",
    "    {-1:100, 1:110},\n",
    "    {0:5, 1:25},\n",
    "    {-1.5:1.02, 3.2:1.48},\n",
    "    {-2:43.7, 0:48.2}])\n",
    "display(tr)\n",
    "design @ tr"
   ]
  },
  {
   "cell_type": "markdown",
   "id": "1a893521",
   "metadata": {},
   "source": [
    "### 8 Transforming the values to categories"
   ]
  },
  {
   "cell_type": "code",
   "execution_count": null,
   "id": "4f2ecaad",
   "metadata": {},
   "outputs": [],
   "source": [
    "cat_design = Design.from_fracfact(\n",
    "    names=['x1', 'x2', 'x3', 'x4'],\n",
    "    gen='a b c abc',)\n",
    "tr = Transform.from_categories([\n",
    "    {-1: '-one', 1: '+one'},\n",
    "    {-1: '-two', 1: '+two'},\n",
    "    {-1: '-thr', 1: '+thr'},\n",
    "    {-1: '-fou', 1: '+fou'},\n",
    "])\n",
    "display(tr)\n",
    "cat_design @ tr"
   ]
  },
  {
   "cell_type": "markdown",
   "id": "f43bef28",
   "metadata": {},
   "source": [
    "### 9 Save the experimental design to file for printing etc.\n",
    "The `index_label` argument in `DataFrame.to_csv(...)` tells Pandas to include the index column with the given name."
   ]
  },
  {
   "cell_type": "raw",
   "id": "3b133ef0",
   "metadata": {},
   "source": [
    "np.random.randint(0, 2**32-1)"
   ]
  },
  {
   "cell_type": "code",
   "execution_count": null,
   "id": "7c8a0fb3",
   "metadata": {},
   "outputs": [],
   "source": [
    "np.random.seed(1294194915) # Randomly generated seed (above)\n",
    "frozen_design = design.randomise_runs().to_df()\n",
    "frozen_design.to_csv(\n",
    "    'doe-section6-1294194915.csv',\n",
    "    index_label='run')"
   ]
  },
  {
   "cell_type": "markdown",
   "id": "42766bd3",
   "metadata": {},
   "source": [
    "---\n",
    "# DoE and Regression - centre point design\n",
    "This is the centre point example from above.\n",
    "\n",
    "Having saved the experimental design,\n",
    "performed the experiment,\n",
    "and added a column to the csv with the observations,\n",
    "the data is now ready to analyse."
   ]
  },
  {
   "cell_type": "code",
   "execution_count": null,
   "id": "c3da6b40",
   "metadata": {},
   "outputs": [],
   "source": [
    "names = ['Ht', 'Theta0', 'Ra', 'Rc']\n",
    "gen = 'a b c abc'\n",
    "nc = 3\n",
    "\n",
    "design = Design.from_fracfact(names, gen) + Design.from_centrepoints(names, nc)"
   ]
  },
  {
   "cell_type": "code",
   "execution_count": null,
   "id": "0074deec",
   "metadata": {},
   "outputs": [],
   "source": [
    "obs = pd.read_csv(\n",
    "    mqr.sample_data('doe-centrepoint.csv'),\n",
    "    index_col=0)\n",
    "obs.sort_index(inplace=True)"
   ]
  },
  {
   "cell_type": "code",
   "execution_count": null,
   "id": "8d45b1fa",
   "metadata": {},
   "outputs": [],
   "source": [
    "centres = obs.query('PtType==0')\n",
    "corners = obs.query('PtType==1')"
   ]
  },
  {
   "cell_type": "raw",
   "id": "0c0f4247",
   "metadata": {},
   "source": [
    "mqr.inference.mean.hyptest_2sample(\n",
    "    centres['Toss'],\n",
    "    corners['Toss'],\n",
    "    pooled=False,\n",
    "    alternative='two-sided')"
   ]
  },
  {
   "cell_type": "raw",
   "id": "72ef73aa",
   "metadata": {},
   "source": [
    "y = obs['Toss']\n",
    "u = np.hstack([\n",
    "    np.ones(len(corners)),\n",
    "    -np.ones(len(centres))])\n",
    "u = u / np.linalg.norm(u)\n",
    "c = np.dot(y, u) * u\n",
    "e = y - c\n",
    "assert np.isclose(np.linalg.norm(u), 1)\n",
    "assert np.all(np.isclose(c + e, y))\n",
    "assert np.isclose(np.dot(c, e), 0)\n",
    "\n",
    "MSc = np.sum(np.square(c))\n",
    "MSe = np.sum(np.square(e)) / (len(y) - 1)\n",
    "F = MSc / MSe\n",
    "F, st.f.cdf(F, 1, len(y)-1)"
   ]
  },
  {
   "cell_type": "code",
   "execution_count": null,
   "id": "5dfdcdce",
   "metadata": {},
   "outputs": [],
   "source": [
    "delta = np.mean(corners['Toss']) - np.mean(centres['Toss'])\n",
    "\n",
    "Ncorner = corners.shape[0]\n",
    "Ncentre = centres.shape[0]\n",
    "\n",
    "SScentre = Ncorner * Ncentre * np.power(delta, 2) / (Ncorner + Ncentre)\n",
    "SSerror = np.var(centres['Toss']) * (Ncentre)\n",
    "MSerror = SSerror / (Ncentre - 1)\n",
    "\n",
    "Fcentre = SScentre / MSerror\n",
    "Pcentre = 1.0 - st.f.cdf(Fcentre, 1, Ncentre - 1)\n",
    "\n",
    "display(f'{SScentre}, {SSerror}, {MSerror}')\n",
    "display(f'Curvature F-stat={Fcentre} and p={Pcentre}')"
   ]
  },
  {
   "cell_type": "code",
   "execution_count": null,
   "id": "f596a974",
   "metadata": {},
   "outputs": [],
   "source": [
    "result = smf.ols(formula='Toss ~ Ht + Theta0 + Ra + Rc -1', data=corners).fit()"
   ]
  },
  {
   "cell_type": "code",
   "execution_count": null,
   "id": "c769996c",
   "metadata": {},
   "outputs": [],
   "source": [
    "mqr.nbtools.vstack(\n",
    "    mqr.anova.adequacy(result),\n",
    "    mqr.nbtools.hstack(\n",
    "        sm.stats.anova_lm(result, typ=2),\n",
    "        mqr.anova.coeffs(result)))"
   ]
  },
  {
   "cell_type": "code",
   "execution_count": null,
   "id": "a7b4fcaf",
   "metadata": {},
   "outputs": [],
   "source": [
    "with Figure(6, 4, 2, 2) as (fig, axs):\n",
    "    mqr.plot.regression.residuals(result, axs=axs)\n",
    "    plot = mqr.nbtools.grab_figure(fig)\n",
    "\n",
    "mqr.nbtools.hstack(\n",
    "    plot,\n",
    "    mqr.nbtools.vstack(\n",
    "        mqr.inference.dist.test_1sample(result.resid),\n",
    "        mqr.inference.mean.test_1sample(result.resid)))"
   ]
  },
  {
   "cell_type": "code",
   "execution_count": null,
   "id": "f2669cf7",
   "metadata": {},
   "outputs": [],
   "source": [
    "effect = 'Toss'\n",
    "\n",
    "corners = obs.query('PtType==1')\n",
    "centres = obs.query('PtType==0')\n",
    "\n",
    "with Figure(8, 2, 1, 4, sharey=True) as (fig, axs):\n",
    "    for i, name in enumerate(design.names):\n",
    "        axs[i].plot(corners.groupby(name).mean()[effect], color='C0', marker='.')\n",
    "        axs[i].plot(centres.groupby(name).mean()[effect], color='C1', marker='o')\n",
    "        axs[i].set_xlabel(name)"
   ]
  },
  {
   "cell_type": "markdown",
   "id": "6be6e798",
   "metadata": {},
   "source": [
    "---\n",
    "# DoE and Regression - central composite design\n",
    "This is the central composite example from \n",
    "\n",
    "Having saved the experimental design,\n",
    "performed the experiment,\n",
    "and added a column to the csv with the observations,\n",
    "the data is ready to analyse."
   ]
  },
  {
   "cell_type": "code",
   "execution_count": null,
   "id": "6e7c45db",
   "metadata": {},
   "outputs": [],
   "source": [
    "names = ['Ht', 'Theta0', 'Ra', 'Rc']\n",
    "gen = 'a b c abc'\n",
    "nc = 3\n",
    "\n",
    "blk1 = Design.from_fracfact(names, gen) + Design.from_centrepoints(names, nc)\n",
    "blk2 = Design.from_axial(names) + Design.from_centrepoints(names, nc)\n",
    "design = blk1 + blk2.as_block(2)"
   ]
  },
  {
   "cell_type": "code",
   "execution_count": null,
   "id": "93fb7f56",
   "metadata": {},
   "outputs": [],
   "source": [
    "# Load experimental data, and sort for easier reading\n",
    "obs = pd.read_csv(\n",
    "    mqr.sample_data('doe-composite.csv'),\n",
    "    index_col=0,).sort_index()\n",
    "obs"
   ]
  },
  {
   "cell_type": "markdown",
   "id": "fe5a8809",
   "metadata": {},
   "source": [
    "### Blocking\n",
    "First, check whether the blocks show any difference by comparing the means of their centre points."
   ]
  },
  {
   "cell_type": "code",
   "execution_count": null,
   "id": "e359d2fb",
   "metadata": {},
   "outputs": [],
   "source": [
    "mqr.inference.mean.test_2sample(\n",
    "    obs.query('Block == 1 and PtType == 0')['Toss'],\n",
    "    obs.query('Block == 2 and PtType == 0')['Toss'],\n",
    "    pooled=False,\n",
    "    alternative='two-sided')"
   ]
  },
  {
   "cell_type": "markdown",
   "id": "a92861d9",
   "metadata": {},
   "source": [
    "There is no evidence to reject the hypothesis that means are equal. So, treat the experiment as one block (ie. don't include a block factor in the regression)."
   ]
  },
  {
   "cell_type": "markdown",
   "id": "8d94f222",
   "metadata": {},
   "source": [
    "### Model"
   ]
  },
  {
   "cell_type": "code",
   "execution_count": null,
   "id": "f3ba1d4f",
   "metadata": {},
   "outputs": [],
   "source": [
    "expr = '''Toss ~\n",
    "    Ht + Theta0 + Ra + Rc +\n",
    "    I(Ht * Theta0) + I(Ht * Ra) + I(Ht * Rc) + I(Theta0 * Ra) +\n",
    "    I(Ht**2) + I(Theta0**2) + I(Ra**2) + I(Rc**2)'''\n",
    "result = smf.ols(expr, obs).fit()"
   ]
  },
  {
   "cell_type": "code",
   "execution_count": null,
   "id": "ffe5b388",
   "metadata": {},
   "outputs": [],
   "source": [
    "display(sm.stats.anova_lm(result, typ=2))"
   ]
  },
  {
   "cell_type": "markdown",
   "id": "e9dabb29",
   "metadata": {},
   "source": [
    "Drop all insignificant higher-order terms: `Ht*Theta0`, `Ht*Ra`, `Ht**2`, `Ra**2`, `Rc**2`"
   ]
  },
  {
   "cell_type": "code",
   "execution_count": null,
   "id": "290c8330",
   "metadata": {},
   "outputs": [],
   "source": [
    "expr = '''Toss ~\n",
    "    Ht + Theta0 + Ra + Rc +\n",
    "    I(Ht * Rc) + I(Theta0 * Ra) +\n",
    "    I(Theta0**2)'''\n",
    "result = smf.ols(expr, obs).fit()"
   ]
  },
  {
   "cell_type": "code",
   "execution_count": null,
   "id": "dfec7981",
   "metadata": {},
   "outputs": [],
   "source": [
    "mqr.nbtools.vstack(\n",
    "    mqr.anova.adequacy(result),\n",
    "    mqr.nbtools.hstack(\n",
    "        mqr.anova.summary(result, typ=2),\n",
    "        mqr.anova.coeffs(result)))"
   ]
  },
  {
   "cell_type": "code",
   "execution_count": null,
   "id": "05a02ae5",
   "metadata": {},
   "outputs": [],
   "source": [
    "with Figure(6, 4, 2, 2) as (fig, axs):\n",
    "    mqr.plot.regression.residuals(result, axs=axs)\n",
    "    plot = mqr.nbtools.grab_figure(fig)\n",
    "\n",
    "mqr.nbtools.hstack(\n",
    "    plot,\n",
    "    mqr.nbtools.vstack(\n",
    "        mqr.inference.dist.test_1sample(result.resid),\n",
    "        mqr.inference.mean.test_1sample(result.resid)))"
   ]
  },
  {
   "cell_type": "code",
   "execution_count": null,
   "id": "01a4a5aa",
   "metadata": {},
   "outputs": [],
   "source": [
    "with Figure(8, 2, 1, 4, sharey=True) as (fig, axs):\n",
    "    for i, name in enumerate(design.names):\n",
    "        df = design.get_factor_df(name)\n",
    "        axs[i].plot(df[name], result.predict(df), marker='.')\n",
    "        axs[i].set_xlabel(name)"
   ]
  }
 ],
 "metadata": {
  "kernelspec": {
   "display_name": "Python 3 (ipykernel)",
   "language": "python",
   "name": "python3"
  },
  "language_info": {
   "codemirror_mode": {
    "name": "ipython",
    "version": 3
   },
   "file_extension": ".py",
   "mimetype": "text/x-python",
   "name": "python",
   "nbconvert_exporter": "python",
   "pygments_lexer": "ipython3",
   "version": "3.12.4"
  }
 },
 "nbformat": 4,
 "nbformat_minor": 5
}
