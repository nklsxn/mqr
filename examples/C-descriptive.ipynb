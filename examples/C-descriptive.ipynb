{
 "cells": [
  {
   "cell_type": "code",
   "execution_count": null,
   "id": "b6ed31cd",
   "metadata": {},
   "outputs": [],
   "source": [
    "import mqr\n",
    "from mqr.plot import Figure\n",
    "from mqr.nbtools import hstack, vstack"
   ]
  },
  {
   "cell_type": "code",
   "execution_count": null,
   "id": "1810ea15",
   "metadata": {},
   "outputs": [],
   "source": [
    "from IPython.display import display"
   ]
  },
  {
   "cell_type": "markdown",
   "id": "1f7be362",
   "metadata": {},
   "source": [
    "\n",
    "# Datasets"
   ]
  },
  {
   "cell_type": "code",
   "execution_count": null,
   "id": "bce1c5a2",
   "metadata": {},
   "outputs": [],
   "source": [
    "import pandas as pd\n",
    "\n",
    "data = pd.read_csv(mqr.sample_data('study-random-5x5.csv'))"
   ]
  },
  {
   "cell_type": "markdown",
   "id": "45c23663",
   "metadata": {},
   "source": [
    "# Summary"
   ]
  },
  {
   "cell_type": "code",
   "execution_count": null,
   "id": "18451a92",
   "metadata": {},
   "outputs": [],
   "source": [
    "from mqr.summary import Study, Sample"
   ]
  },
  {
   "cell_type": "code",
   "execution_count": null,
   "id": "e98d69e3",
   "metadata": {},
   "outputs": [],
   "source": [
    "study = Study(data, ['KPI1', 'KPI2', 'KPI3', 'KPO1', 'KPO2'])\n",
    "\n",
    "display(study.__repr__()) # appearance in iPython\n",
    "study # appearance in notebook (_repr_html_)"
   ]
  },
  {
   "cell_type": "code",
   "execution_count": null,
   "id": "c70ae4c1",
   "metadata": {},
   "outputs": [],
   "source": [
    "with Figure(3, 4, 3, 1, height_ratios=[4, 1, 1]) as (fig, ax):\n",
    "    mqr.plot.summary(study['KPO1'], ax=ax)\n",
    "    plot_kpo1 = mqr.nbtools.grab_figure(fig)\n",
    "\n",
    "with Figure(3, 4, 3, 1, height_ratios=[4, 1, 1]) as (fig, ax):\n",
    "    mqr.plot.summary(study['KPO2'], ax=ax)\n",
    "    plot_kpo2 = mqr.nbtools.grab_figure(fig)\n",
    "\n",
    "hstack(\n",
    "    study,\n",
    "    plot_kpo1,\n",
    "    plot_kpo2)"
   ]
  }
 ],
 "metadata": {
  "kernelspec": {
   "display_name": "Python 3 (ipykernel)",
   "language": "python",
   "name": "python3"
  },
  "language_info": {
   "codemirror_mode": {
    "name": "ipython",
    "version": 3
   },
   "file_extension": ".py",
   "mimetype": "text/x-python",
   "name": "python",
   "nbconvert_exporter": "python",
   "pygments_lexer": "ipython3",
   "version": "3.12.4"
  }
 },
 "nbformat": 4,
 "nbformat_minor": 5
}
