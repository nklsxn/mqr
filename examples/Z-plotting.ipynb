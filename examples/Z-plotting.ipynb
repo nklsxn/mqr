{
 "cells": [
  {
   "cell_type": "code",
   "execution_count": null,
   "id": "fd304e3d",
   "metadata": {},
   "outputs": [],
   "source": [
    "import matplotlib.pyplot as plt\n",
    "import seaborn as sns"
   ]
  },
  {
   "cell_type": "code",
   "execution_count": null,
   "id": "5c173b36",
   "metadata": {},
   "outputs": [],
   "source": [
    "import mqr\n",
    "from mqr.plot import Figure"
   ]
  },
  {
   "cell_type": "code",
   "execution_count": null,
   "id": "98cf66d0",
   "metadata": {},
   "outputs": [],
   "source": [
    "import numpy as np\n",
    "import scipy.stats as st"
   ]
  },
  {
   "cell_type": "markdown",
   "id": "d3e6cd17",
   "metadata": {},
   "source": [
    "---\n",
    "# Directory\n",
    "The `mqr` library constructs the following common plots for convenience.\n",
    "All plots that require multiple axes flatten the `ax` argument before use,\n",
    "so any dimensions that multiply to the \"No. axes\" value below will work,\n",
    "excluding `correlation.matrix`, which must be exactly N by N.\n",
    "\n",
    "| Function | No. axes | Description |\n",
    "|:---      |:---      |:---         |\n",
    "|`mqr.plot.grouped_df`| 1 | The columns of a dataframe plot side-by-side |\n",
    "||\n",
    "|`mqr.plot.ishikawa`| 1 | Fishbone/Ishikawa diagram |\n",
    "|`mqr.plot.summary`| 3 | For a sample: histogram, boxplot and confidence interval of the mean |\n",
    "|`mqr.plot.correlation.matrix`| N by N | Matrix of scatter plots, histrograms and correlation statistics |\n",
    "|`mqr.plot.confint`| 1 | Interval and points showing a confidence interval and hypothesised value |\n",
    "||\n",
    "|`mqr.plot.process.pdf`| 1 | Probability density of a process estimating its yield |\n",
    "|`mqr.plot.process.tolerance`| 1 | Shaded region representing a tolerance |\n",
    "|`mqr.plot.process.capability`| 1 | For a process: a histrogram, pdf and tolerance overalyed, showing capability. |\n",
    "||\n",
    "|`mqr.plot.anova.residual_histogram`| 1 | For an ols result: histogram of residuals with overlayed density |\n",
    "|`mqr.plot.anova.res_v_obs`| 1 | For an ols result: residuals vs. observations |\n",
    "|`mqr.plot.anova.res_v_fit`| 1 | For an ols result: residuals vs. fitted values |\n",
    "|`mqr.plot.anova.residuals`| 4 | For an ols result: a tableau of the above three plots, and a probability plot |\n",
    "|`mqr.plot.anova.interaction`| 1 | Interactions between independent variables |\n",
    "||\n",
    "|`mqr.plot.msa.bar_var_pct`| 1 | For a GRR: bar graph of percent contributions from variances |\n",
    "|`mqr.plot.msa.box_measurement_by_part`| 1 | For a GRR: box-plot of measurements by part |\n",
    "|`mqr.plot.msa.box_measurement_by_operator`| 1 | For a GRR: box-plot of measurments by operator |\n",
    "|`mqr.plot.msa.interaction`| 1 | For a GRR: interaction plot between part and operator |\n",
    "|`mqr.plot.msa.xbar_operator`| 1 | For a GRR: Xbar-chart for each operator (using `grouped_df`) |\n",
    "|`mqr.plot.msa.r_operator`| 1 | For a GRR: R-chart for each operator (using `grouped_df`) |\n",
    "|`mqr.plot.msa.grr`| 6 | A tableau of the above six plots |\n",
    "||\n",
    "|`mqr.plot.control.xbar_chart`| 1 | For a time-series of samples: an Xbar-chart |\n",
    "|`mqr.plot.control.r_chart`| 1 | For a time-series of samples: an R-chart |\n",
    "|`mqr.plot.control.oc`| 1 | For a sample: an operating characteristic curve |\n",
    "\n",
    "## Other tools\n",
    "| Class | Description |\n",
    "|:---   |:---         |\n",
    "|`mqr.plot.Figure` | A context manager that wraps a call to `matplotlib.pyplot.subplots`, showing then closing the figure |"
   ]
  },
  {
   "cell_type": "markdown",
   "id": "1a8506f5",
   "metadata": {},
   "source": [
    "---\n",
    "# Basics\n",
    "We use two libraries: `matplotlib` and `seaborn`.\n",
    "* **matplotlib** provides all the basic plotting tools, like figures and axes.\n",
    "  It also provides various plot types (see below in Elements section).\n",
    "* **seaborn** builds on matplotlib to provide more sophisticated plots.\n",
    "  It also provides alternatives to some matplotlib plots.\n",
    "\n",
    "## Getting help\n",
    "Both provide excellent documentation, explaining how to use the libraries and showing examples. There are two quick ways to access documentation.\n",
    "1. In the Jupyter notebook, type the name of the function and parentheses,\n",
    "   place the cursor somewhere between the parentheses, then type `shift-tab`.\n",
    "   Eg. type `sns.boxplot(...)`, then while the cursor is somewhere in `(...)` type `shift-tab`.\n",
    "1. Go to the websites below, and use the search function on their website to find a function, example, etc.\n",
    "\n",
    "**matplotlib** https://matplotlib.org/stable/  \n",
    "**seaborn** https://seaborn.pydata.org/index.html"
   ]
  },
  {
   "cell_type": "markdown",
   "id": "52ef98c2",
   "metadata": {},
   "source": [
    "## Matplotlib figures and axes\n",
    "Matplotlib plots are based on figures and axes.\n",
    "A **figure** holds one or more **axes**.\n",
    "For more info on figures and axes, see https://matplotlib.org/stable/users/explain/axes/axes_intro.html.\n",
    "\n",
    "Create a figure with a given size like this:"
   ]
  },
  {
   "cell_type": "code",
   "execution_count": null,
   "id": "f948f490",
   "metadata": {},
   "outputs": [],
   "source": [
    "# matplotlib\n",
    "fig, ax = plt.subplots(figsize=(6, 3))\n",
    "plt.show(fig)\n",
    "plt.close(fig)"
   ]
  },
  {
   "cell_type": "markdown",
   "id": "b2086f5b",
   "metadata": {},
   "source": [
    "Lots of examples on the internet will not assign the result of the call to `subplots`.\n",
    "If you don't specify an axis to plot onto, matplotlib will plot on the axis you just created.\n",
    "We suggest keeping track of the axes you create by assigning them to variables like we do here,\n",
    "then plotting into them explicitly.\n",
    "Explicit code is easier to read and easier to fix when there are problems."
   ]
  },
  {
   "cell_type": "markdown",
   "id": "02a2fa17",
   "metadata": {},
   "source": [
    "## `Figure` context manager\n",
    "The `mqr` library provides a wrapper around subplot creation. The wrapper is written as a `with`-block called `Figure`.\n",
    "\n",
    "The `with` construct is a python feature called a _context manager_.\n",
    "It helps automatically initialise and then destroy resources (the figure in this case).\n",
    "The `Figure` block creates a figure with the arguments supplied,\n",
    "and does a few other things to automate common actions to make nice looking figures.\n",
    "\n",
    "You can use either construct: `fig, ax = matplotlib.subplots(...)` or `with Figure(...) as (fig, ax): ...`."
   ]
  },
  {
   "cell_type": "code",
   "execution_count": null,
   "id": "06676080",
   "metadata": {},
   "outputs": [],
   "source": [
    "with Figure() as (fig, ax):\n",
    "    pass"
   ]
  },
  {
   "cell_type": "markdown",
   "id": "a9802d7f",
   "metadata": {},
   "source": [
    "## Scales\n",
    "Set the scale on an axis by calling `set_xscale` or `set_yscale`.\n",
    "Read more about scales, including built-in scales, at https://matplotlib.org/stable/users/explain/axes/axes_scales.html."
   ]
  },
  {
   "cell_type": "code",
   "execution_count": null,
   "id": "3d6db5b9",
   "metadata": {},
   "outputs": [],
   "source": [
    "xs = np.linspace(0, 4*np.pi)\n",
    "ys = np.sin(xs)\n",
    "\n",
    "with Figure(n=2) as (fig, ax):\n",
    "    ax[0].plot(xs, ys)\n",
    "    ax[0].set_xscale('log')\n",
    "    \n",
    "    ax[1].plot(xs, ys+1)\n",
    "    ax[1].set_yscale('log')"
   ]
  },
  {
   "cell_type": "markdown",
   "id": "c518d6b1",
   "metadata": {},
   "source": [
    "---\n",
    "# Elements\n",
    "Matplotlib combines basic elements onto an axis to make a plot.\n",
    "This section demonstrates the elements used most in `mqr`.\n",
    "\n",
    "Note that, from now on, the plots are created from the axes object (`ax`),\n",
    "or the axes object is passed to the plotting function explicitly."
   ]
  },
  {
   "cell_type": "markdown",
   "id": "872cf699",
   "metadata": {},
   "source": [
    "## Lines\n",
    "The function `numpy.linspace(...)` creates evenly spaced points over an interval.\n",
    "It is useful for plotting an equation, like the example below.\n",
    "\n",
    "But, the same technique can plot any series of points.\n",
    "For example, the points could be measurements from an experiment."
   ]
  },
  {
   "cell_type": "code",
   "execution_count": null,
   "id": "31ff52b8",
   "metadata": {},
   "outputs": [],
   "source": [
    "xs = np.linspace(-np.pi, np.pi)\n",
    "ys = np.sin(xs)\n",
    "\n",
    "with Figure() as (fig, ax):\n",
    "    ax.plot(xs, ys)"
   ]
  },
  {
   "cell_type": "markdown",
   "id": "c10a7d94",
   "metadata": {},
   "source": [
    "## Histograms\n",
    "Both matplotlib and seaborn can plot histograms.\n",
    "The libraries have similar interfaces, and can generate bins and corresponding bars automatically."
   ]
  },
  {
   "cell_type": "code",
   "execution_count": null,
   "id": "ce47aa77",
   "metadata": {},
   "outputs": [],
   "source": [
    "xs = st.norm(3, 0.4).rvs(400)"
   ]
  },
  {
   "cell_type": "code",
   "execution_count": null,
   "id": "57397417",
   "metadata": {},
   "outputs": [],
   "source": [
    "# matplotlib\n",
    "fig, ax = plt.subplots(figsize=(6, 3))\n",
    "ax.hist(xs)\n",
    "plt.show(fig)\n",
    "plt.close(fig)"
   ]
  },
  {
   "cell_type": "code",
   "execution_count": null,
   "id": "b458ddb0",
   "metadata": {},
   "outputs": [],
   "source": [
    "# seaborn\n",
    "with Figure() as (fig, ax):\n",
    "    sns.histplot(xs, ax=ax)"
   ]
  },
  {
   "cell_type": "markdown",
   "id": "6a08f592",
   "metadata": {},
   "source": [
    "## Box Plots"
   ]
  },
  {
   "cell_type": "code",
   "execution_count": null,
   "id": "cb343ae2",
   "metadata": {},
   "outputs": [],
   "source": [
    "xs = st.t(4).rvs([300, 3])"
   ]
  },
  {
   "cell_type": "code",
   "execution_count": null,
   "id": "cd350f4b",
   "metadata": {},
   "outputs": [],
   "source": [
    "# matplotlib\n",
    "with Figure(6, 3) as (fig, ax):\n",
    "    ax.boxplot(xs)"
   ]
  },
  {
   "cell_type": "code",
   "execution_count": null,
   "id": "c17d9e96",
   "metadata": {},
   "outputs": [],
   "source": [
    "with Figure(6, 3) as (fig, ax):\n",
    "    sns.boxplot(xs, ax=ax)"
   ]
  },
  {
   "cell_type": "markdown",
   "id": "7e93be08",
   "metadata": {},
   "source": [
    "## Others\n",
    "There are many other types of plots.\n",
    "\n",
    "**Matplotlib** has a gallery of plot types here: https://matplotlib.org/stable/plot_types/index.html.  \n",
    "**Seaborn** has a similar gallery here: https://seaborn.pydata.org/examples/index.html."
   ]
  },
  {
   "cell_type": "markdown",
   "id": "f3db80af",
   "metadata": {},
   "source": [
    "---\n",
    "# Combining Elements"
   ]
  },
  {
   "cell_type": "markdown",
   "id": "85a6d6ff",
   "metadata": {},
   "source": [
    "## Elements on the same axes"
   ]
  },
  {
   "cell_type": "code",
   "execution_count": null,
   "id": "4e1f047e",
   "metadata": {},
   "outputs": [],
   "source": [
    "# Orthogonal sin functions\n",
    "xs = np.linspace(-np.pi, np.pi)\n",
    "ys_a = np.sin(xs*2)\n",
    "ys_b = np.sin(xs*3)\n",
    "ys_c = np.cumsum(ys_a * ys_b)\n",
    "\n",
    "with Figure() as (fig, ax):\n",
    "    ax.plot(xs, ys_a)\n",
    "    ax.plot(xs, ys_b)\n",
    "    ax.plot(xs, ys_c)"
   ]
  },
  {
   "cell_type": "markdown",
   "id": "31b6853b",
   "metadata": {},
   "source": [
    "## Multiple axes"
   ]
  },
  {
   "cell_type": "code",
   "execution_count": null,
   "id": "0ed16ed3",
   "metadata": {},
   "outputs": [],
   "source": [
    "xs = np.linspace(-1, 1)\n",
    "ys_a = xs**2 - xs**3 + 0.1\n",
    "ys_b = np.log(ys_a)\n",
    "\n",
    "with Figure() as (fig, ax):\n",
    "    ax_left = ax\n",
    "    ax_right = ax.twinx()\n",
    "\n",
    "    ax_left.plot(xs, ys_a)\n",
    "    ax_right.plot(xs, ys_b)"
   ]
  },
  {
   "cell_type": "markdown",
   "id": "065485a2",
   "metadata": {},
   "source": [
    "## Multiple plots\n",
    "Plot multiple plots beside or above/below each other.\n",
    "Use the argument `sharex=True` or `sharey=True` to align the axes' ticks."
   ]
  },
  {
   "cell_type": "code",
   "execution_count": null,
   "id": "6907062b",
   "metadata": {},
   "outputs": [],
   "source": [
    "xs = np.linspace(0.01, 1)\n",
    "ys_a = np.exp(xs)\n",
    "ys_b = np.log(xs)\n",
    "\n",
    "with Figure(4, 2, 1, 2, sharey=True) as (fig, ax):\n",
    "    ax[0].plot(xs, ys_a)\n",
    "    ax[1].plot(xs, ys_b)"
   ]
  },
  {
   "cell_type": "code",
   "execution_count": null,
   "id": "a463345c",
   "metadata": {},
   "outputs": [],
   "source": [
    "xs = np.linspace(0.01, 1)\n",
    "ys_a = np.exp(xs)\n",
    "ys_b = np.log(xs)\n",
    "\n",
    "with Figure(3, 4, 2, 1, sharex=True) as (fig, ax):\n",
    "    ax[0].plot(xs, ys_a)\n",
    "    ax[1].plot(xs, ys_b)"
   ]
  },
  {
   "cell_type": "markdown",
   "id": "19a47a79",
   "metadata": {},
   "source": [
    "---\n",
    "# Styling"
   ]
  },
  {
   "cell_type": "markdown",
   "id": "93c89786",
   "metadata": {},
   "source": [
    "## Titles, labels, ticks and grids"
   ]
  },
  {
   "cell_type": "code",
   "execution_count": null,
   "id": "27158137",
   "metadata": {},
   "outputs": [],
   "source": [
    "xs = np.linspace(0, 5*np.pi)\n",
    "ys = np.cos(xs) - np.sin(xs/2)\n",
    "\n",
    "with Figure() as (fig, ax):\n",
    "    ax.plot(xs, ys)\n",
    "    \n",
    "    ax.set_title('A model of a wave')\n",
    "    ax.set_xlabel('t (s)')\n",
    "    ax.set_ylabel('cos(t) - sin(t/2) (m)')\n",
    "\n",
    "    # LaTeX math in the labels here; escape the backslash\n",
    "    ax.set_xticks([0, np.pi, 2*np.pi, 3*np.pi, 4*np.pi, 5*np.pi])\n",
    "    ax.set_xticklabels(['0', '$\\\\pi$', '2$\\\\pi$', '3$\\\\pi$', '4$\\\\pi$', '5$\\\\pi$'])\n",
    "    ax.grid(True, axis='x')\n",
    "\n",
    "    ax.set_yticks([-2, -1, 0, 1])\n",
    "    ax.set_yticks([-1.5, -0.5, 0.5], minor=True)\n",
    "    ax.grid(True, which='both', axis='y')\n",
    "\n",
    "    ax.set_xlim(0, 5*np.pi)"
   ]
  },
  {
   "cell_type": "markdown",
   "id": "7494b4ec",
   "metadata": {},
   "source": [
    "## Lines"
   ]
  },
  {
   "cell_type": "code",
   "execution_count": null,
   "id": "5253271d",
   "metadata": {},
   "outputs": [],
   "source": [
    "x = np.linspace(0, 10)\n",
    "y1 = np.cos(x)\n",
    "y2 = np.cos(x) + 1\n",
    "y3 = np.cos(x) + 2\n",
    "\n",
    "with Figure() as (fig, ax):\n",
    "    ax.plot(x, y1, linewidth=1.2, linestyle='-')\n",
    "    ax.plot(x, y2, linewidth=3.0, linestyle='--')\n",
    "    ax.plot(x, y3, linewidth=0.5, linestyle='-.')"
   ]
  },
  {
   "cell_type": "markdown",
   "id": "770deca9",
   "metadata": {},
   "source": [
    "## Colours"
   ]
  },
  {
   "cell_type": "code",
   "execution_count": null,
   "id": "cb64e1d4",
   "metadata": {},
   "outputs": [],
   "source": [
    "x = np.linspace(0, 10)\n",
    "y1 = np.cos(x)\n",
    "y2 = np.cos(x) + 1\n",
    "y3 = np.cos(x) + 2\n",
    "\n",
    "with Figure() as (fig, ax):\n",
    "    ax.plot(x, y1, color='C0') # C1, C2, C3, ... the auto colour cycle\n",
    "    ax.plot(x, y2, color='magenta')\n",
    "    ax.plot(x, y3, color='#1E00AF') # RGB in hexadecimal (like in css)"
   ]
  },
  {
   "cell_type": "markdown",
   "id": "3816b1e4",
   "metadata": {},
   "source": [
    "## Markers"
   ]
  },
  {
   "cell_type": "code",
   "execution_count": null,
   "id": "00ea013a",
   "metadata": {},
   "outputs": [],
   "source": [
    "x = np.linspace(0, 10, 20)\n",
    "y1 = np.cos(x)\n",
    "y2 = np.cos(x) + 1\n",
    "y3 = np.cos(x) + 2\n",
    "\n",
    "with Figure() as (fig, ax):\n",
    "    ax.plot(x, y1, linewidth=0.8, marker='o')\n",
    "    ax.plot(x, y2, linewidth=0.8, marker='x')\n",
    "    ax.plot(x, y3, linewidth=0.8, marker='s')"
   ]
  }
 ],
 "metadata": {
  "kernelspec": {
   "display_name": "Python 3 (ipykernel)",
   "language": "python",
   "name": "python3"
  },
  "language_info": {
   "codemirror_mode": {
    "name": "ipython",
    "version": 3
   },
   "file_extension": ".py",
   "mimetype": "text/x-python",
   "name": "python",
   "nbconvert_exporter": "python",
   "pygments_lexer": "ipython3",
   "version": "3.12.4"
  }
 },
 "nbformat": 4,
 "nbformat_minor": 5
}
