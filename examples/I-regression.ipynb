{
 "cells": [
  {
   "cell_type": "code",
   "execution_count": null,
   "id": "2c3aa2cf",
   "metadata": {},
   "outputs": [],
   "source": [
    "# Data and calculation libraries\n",
    "import numpy as np\n",
    "import pandas as pd\n",
    "import scipy.stats as st"
   ]
  },
  {
   "cell_type": "code",
   "execution_count": null,
   "id": "490a1396",
   "metadata": {},
   "outputs": [],
   "source": [
    "import mqr\n",
    "from mqr.plot import Figure\n",
    "from mqr.nbtools import hstack, vstack, grab_figure"
   ]
  },
  {
   "cell_type": "markdown",
   "id": "bc403ee8",
   "metadata": {},
   "source": [
    "---\n",
    "# Toy examples"
   ]
  },
  {
   "cell_type": "code",
   "execution_count": null,
   "id": "0665cb55",
   "metadata": {},
   "outputs": [],
   "source": [
    "import statsmodels.api as sm\n",
    "import statsmodels.formula.api as smf"
   ]
  },
  {
   "cell_type": "code",
   "execution_count": null,
   "id": "a6eeabed",
   "metadata": {},
   "outputs": [],
   "source": [
    "data = np.vstack([\n",
    "    np.tile([1, 3], 10),\n",
    "    np.tile([0, 0, 2, 2], 5)]).T\n",
    "levels = pd.DataFrame(data, columns=['X', 'Y'])"
   ]
  },
  {
   "cell_type": "markdown",
   "id": "a49889ff",
   "metadata": {},
   "source": [
    "---\n",
    "# Linear"
   ]
  },
  {
   "cell_type": "code",
   "execution_count": null,
   "id": "e4020688",
   "metadata": {},
   "outputs": [],
   "source": [
    "# Make some data from a linear model, then add some noise to simulate measurement, unmodelled factors, etc.\n",
    "np.random.seed(849)\n",
    "\n",
    "linear = levels.copy()\n",
    "f_linear = lambda x, y: x + 2*y\n",
    "linear['Z'] = f_linear(linear['X'], linear['Y']) + st.norm(0, 0.5).rvs(len(levels))"
   ]
  },
  {
   "cell_type": "code",
   "execution_count": null,
   "id": "5fc0420c",
   "metadata": {},
   "outputs": [],
   "source": [
    "# Define and fit the model\n",
    "result = smf.ols('Z ~ X + Y - 1', linear).fit()"
   ]
  },
  {
   "cell_type": "code",
   "execution_count": null,
   "id": "f10fe36a",
   "metadata": {},
   "outputs": [],
   "source": [
    "mqr.nbtools.vstack(\n",
    "    mqr.anova.adequacy(result),\n",
    "    mqr.anova.summary(result),\n",
    "    mqr.anova.coeffs(result))"
   ]
  },
  {
   "cell_type": "code",
   "execution_count": null,
   "id": "a6f3505d",
   "metadata": {},
   "outputs": [],
   "source": [
    "Xs = np.linspace(0.5, 3.5)\n",
    "Ys = np.linspace(-0.5, 2.5)\n",
    "X, Y = np.meshgrid(Xs, Ys)\n",
    "Z = f_linear(X, Y)\n",
    "\n",
    "zmin, zmax = np.min(Z)-0.5, np.max(Z)+0.5\n",
    "\n",
    "subplot_kw = {'projection': '3d'}\n",
    "with Figure(5, 5, subplot_kw=subplot_kw) as (fig, ax):\n",
    "    ax.plot_surface(X, Y, Z, edgecolor='C0', lw=0.5, rstride=4, cstride=4, alpha=0.0, color='C0')\n",
    "    ax.plot(xs=linear['X'], ys=linear['Y'], zs=linear['Z'], linewidth=0, marker='.', color='C1')\n",
    "    \n",
    "    ax.contour(X, Y, Z, offset=np.min(Z)-0.5)\n",
    "    ax.plot(1, 0, zs=zmin, color='k', marker='o')\n",
    "    ax.plot(3, 0, zs=zmin, color='k', marker='o')\n",
    "    ax.plot(1, 2, zs=zmin, color='k', marker='o')\n",
    "    ax.plot(3, 2, zs=zmin, color='k', marker='o')\n",
    "    \n",
    "    ax.plot(1, 0, zs=f_linear(1, 0), color='C0', marker='o')\n",
    "    ax.plot(3, 0, zs=f_linear(3, 0), color='C0', marker='o')\n",
    "    ax.plot(1, 2, zs=f_linear(1, 2), color='C0', marker='o')\n",
    "    ax.plot(3, 2, zs=f_linear(3, 2), color='C0', marker='o')\n",
    "    \n",
    "    ax.view_init(20, 240, 0)\n",
    "    ax.set(\n",
    "        xlim=(0.5, 3.5),\n",
    "        ylim=(-0.5, 2.5),\n",
    "        zlim=(zmin, zmax),\n",
    "        xlabel='X',\n",
    "        ylabel='Y',\n",
    "        zlabel='Z')"
   ]
  },
  {
   "cell_type": "code",
   "execution_count": null,
   "id": "2364dd59",
   "metadata": {},
   "outputs": [],
   "source": [
    "with Figure(6, 4, 2, 2) as (fig, ax):\n",
    "    mqr.plot.regression.residuals(result.resid, result.fittedvalues, axs=ax)\n",
    "    plot = grab_figure(fig)\n",
    "\n",
    "hstack(\n",
    "    plot,\n",
    "    mqr.inference.dist.test_1sample(result.resid),\n",
    ")"
   ]
  },
  {
   "cell_type": "markdown",
   "id": "a6bccf2d",
   "metadata": {},
   "source": [
    "---\n",
    "# Linear with Interaction"
   ]
  },
  {
   "cell_type": "code",
   "execution_count": null,
   "id": "fe79aace",
   "metadata": {},
   "outputs": [],
   "source": [
    "# Construct data with a \"destructive\" interaction, and fake some noisey measurements\n",
    "np.random.seed(849)\n",
    "\n",
    "interact = levels.copy()\n",
    "f_interact = lambda x, y: x + 2 * y - x * y\n",
    "interact['Z'] = f_interact(interact['X'], interact['Y']) + st.norm(0, 0.5).rvs(len(levels))"
   ]
  },
  {
   "cell_type": "code",
   "execution_count": null,
   "id": "a06a5c35",
   "metadata": {},
   "outputs": [],
   "source": [
    "Xs = np.linspace(0.5, 3.5)\n",
    "Ys = np.linspace(-0.5, 2.5)\n",
    "X, Y = np.meshgrid(Xs, Ys)\n",
    "Z = f_interact(X, Y)\n",
    "\n",
    "zmin, zmax = np.min(Z)-0.5, np.max(Z)+0.5\n",
    "\n",
    "subplot_kw = {'projection': '3d'}\n",
    "with Figure(5, 5, subplot_kw=subplot_kw) as (fig, ax):\n",
    "    ax.plot_surface(X, Y, Z, edgecolor='C0', lw=0.5, rstride=4, cstride=4, alpha=0.0, color='C0')\n",
    "    ax.plot(xs=interact['X'], ys=interact['Y'], zs=interact['Z'], linewidth=0, marker='.', color='C1')\n",
    "    \n",
    "    ax.contour(X, Y, Z, offset=np.min(Z)-0.5)\n",
    "    ax.plot(1, 0, zs=zmin, color='k', marker='o')\n",
    "    ax.plot(3, 0, zs=zmin, color='k', marker='o')\n",
    "    ax.plot(1, 2, zs=zmin, color='k', marker='o')\n",
    "    ax.plot(3, 2, zs=zmin, color='k', marker='o')\n",
    "    \n",
    "    ax.plot(1, 0, zs=f_interact(1, 0), color='C0', marker='o')\n",
    "    ax.plot(3, 0, zs=f_interact(3, 0), color='C0', marker='o')\n",
    "    ax.plot(1, 2, zs=f_interact(1, 2), color='C0', marker='o')\n",
    "    ax.plot(3, 2, zs=f_interact(3, 2), color='C0', marker='o')\n",
    "    \n",
    "    ax.view_init(20, 240, 0)\n",
    "    ax.set(\n",
    "        xlim=(0.5, 3.5),\n",
    "        ylim=(-0.5, 2.5),\n",
    "        zlim=(zmin, zmax),\n",
    "        xlabel='X',\n",
    "        ylabel='Y',\n",
    "        zlabel='Z')"
   ]
  },
  {
   "cell_type": "code",
   "execution_count": null,
   "id": "38199ee5",
   "metadata": {},
   "outputs": [],
   "source": [
    "# Define the model and fit.\n",
    "result = smf.ols('Z ~ X * Y - 1', interact).fit()"
   ]
  },
  {
   "cell_type": "code",
   "execution_count": null,
   "id": "e1b93d91",
   "metadata": {},
   "outputs": [],
   "source": [
    "display(mqr.anova.adequacy(result))\n",
    "display(sm.stats.anova_lm(result))\n",
    "display(mqr.anova.coeffs(result))"
   ]
  },
  {
   "cell_type": "code",
   "execution_count": null,
   "id": "9b67c950",
   "metadata": {},
   "outputs": [],
   "source": [
    "with Figure(6, 4, 2, 2) as (fig, ax):\n",
    "    mqr.plot.regression.residuals(result.resid, result.fittedvalues, axs=ax)\n",
    "    plot = grab_figure(fig)\n",
    "\n",
    "hstack(\n",
    "    plot,\n",
    "    mqr.inference.dist.test_1sample(result.resid),\n",
    ")"
   ]
  },
  {
   "cell_type": "markdown",
   "id": "8987782e",
   "metadata": {},
   "source": [
    "---\n",
    "# Quadratic (and higher) curvature\n",
    "\n",
    "This example uses a large amount of noise to show how effective linear regression is when the assumption about residuals holds.\n",
    "That is: linear regression performs very well whenever the structure that the model does not capture (the residuals) is normally distributed.\n",
    "\n",
    "Have a look at the large spread of the orange dots around the \"true\" surface response.\n",
    "Also, notice that the $r^2_\\textrm{adj}$ is fairly low because of this noise — around 0.8\n",
    "(in practise, you should be suspicious that the model is poor or the measurements are too noisy).\n",
    "Still, the estimate that regression produces is very good."
   ]
  },
  {
   "cell_type": "code",
   "execution_count": null,
   "id": "1237ac63",
   "metadata": {},
   "outputs": [],
   "source": [
    "np.random.seed(4321)\n",
    "\n",
    "curve = levels.copy()\n",
    "# Add centrepoints to make the curvature detectable\n",
    "curve = pd.concat(\n",
    "    [curve,\n",
    "     pd.DataFrame({'X': 2*np.ones(5),\n",
    "                   'Y': np.ones(5)})],\n",
    "    ignore_index=True)\n",
    "f_curve = lambda x, y: -(x**2 - 3*x + 2) + 2*y\n",
    "curve['Z'] = f_curve(curve['X'], curve['Y']) + st.norm(0, 1.0).rvs(len(curve))"
   ]
  },
  {
   "cell_type": "code",
   "execution_count": null,
   "id": "8f7d1e5f",
   "metadata": {},
   "outputs": [],
   "source": [
    "result = smf.ols('Z ~ X + I(X**2) + Y + 1', curve).fit()"
   ]
  },
  {
   "cell_type": "code",
   "execution_count": null,
   "id": "2a40666b",
   "metadata": {},
   "outputs": [],
   "source": [
    "mqr.nbtools.vstack(\n",
    "    mqr.anova.adequacy(result),\n",
    "    mqr.anova.summary(result),\n",
    "    mqr.anova.coeffs(result))"
   ]
  },
  {
   "cell_type": "markdown",
   "id": "c036c8d7",
   "metadata": {},
   "source": [
    "### Estimating a maximum from the fitted coefficients\n",
    "The expression for the response surface was\n",
    "\\begin{align}\n",
    "    z = ax^2 + bx - c + dy.\n",
    "\\end{align}\n",
    "Setting the partial derivative wrt $x$ to zero gives\n",
    "\\begin{gather}\n",
    "    x = -\\frac{b}{2a}.\n",
    "\\end{gather}\n",
    "And since we assumed the response to be linear in $y$, choose the highest feasible $y$ (since its coefficient is positive).\n",
    "In this case, use $y=2$, the highest value for $y$ in the experiment."
   ]
  },
  {
   "cell_type": "code",
   "execution_count": null,
   "id": "ec4a523d",
   "metadata": {},
   "outputs": [],
   "source": [
    "result.params"
   ]
  },
  {
   "cell_type": "code",
   "execution_count": null,
   "id": "36ca0977",
   "metadata": {},
   "outputs": [],
   "source": [
    "c, b, a, d = result.params # careful here - look at result.params to see what order statsmodels/patsy used in the result\n",
    "y_opt = 2\n",
    "x_opt = -b / (2 * a)\n",
    "z_opt = f_curve(x_opt, y_opt)\n",
    "x_opt, z_opt, f_curve(1.5, 2) # optimal point from fit, then the optimal point from \"truth\""
   ]
  },
  {
   "cell_type": "code",
   "execution_count": null,
   "id": "349f2e21",
   "metadata": {},
   "outputs": [],
   "source": [
    "Xs = np.linspace(0.5, 3.5)\n",
    "Ys = np.linspace(-0.5, 2.5)\n",
    "X, Y = np.meshgrid(Xs, Ys)\n",
    "Z = f_curve(X, Y)\n",
    "\n",
    "zmin, zmax = np.min(Z)-0.5, np.max(Z)+0.5\n",
    "\n",
    "subplot_kw = {'projection': '3d'}\n",
    "with Figure(5, 5, subplot_kw=subplot_kw) as (fig, ax):\n",
    "    ax.plot_surface(X, Y, Z, edgecolor='C0', lw=0.5, rstride=4, cstride=4, alpha=0.0, color='C0')\n",
    "    ax.plot(xs=curve['X'], ys=curve['Y'], zs=curve['Z'], linewidth=0, marker='.', color='C1')\n",
    "    \n",
    "    ax.contour(X, Y, Z, offset=np.min(Z)-0.5)\n",
    "    ax.plot(1, 0, zs=zmin, color='k', marker='o')\n",
    "    ax.plot(3, 0, zs=zmin, color='k', marker='o')\n",
    "    ax.plot(1, 2, zs=zmin, color='k', marker='o')\n",
    "    ax.plot(3, 2, zs=zmin, color='k', marker='o')\n",
    "    ax.plot(2, 1, zs=zmin, color='k', marker='o') # centre points\n",
    "    \n",
    "    ax.plot(1, 0, zs=f_curve(1, 0), color='C0', marker='o')\n",
    "    ax.plot(3, 0, zs=f_curve(3, 0), color='C0', marker='o')\n",
    "    ax.plot(1, 2, zs=f_curve(1, 2), color='C0', marker='o')\n",
    "    ax.plot(3, 2, zs=f_curve(3, 2), color='C0', marker='o')\n",
    "    ax.plot(2, 1, zs=f_curve(2, 1), color='C0', marker='o') # centre points\n",
    "\n",
    "    ax.plot(x_opt, y_opt, zs=z_opt, color='C2', marker='o') # fitted optimum\n",
    "    xs_opt = np.linspace(x_opt-0.5, x_opt+0.5)\n",
    "    ys_opt = np.linspace(y_opt-0.5, y_opt+0.5)\n",
    "    ax.plot(xs_opt, np.repeat(y_opt, len(xs_opt)), f_curve(xs_opt, y_opt), color='C2', linewidth=0.8)\n",
    "    ax.plot(np.repeat(x_opt, len(ys_opt)), ys_opt, f_curve(x_opt, ys_opt), color='C2', linewidth=0.8)\n",
    "    \n",
    "    ax.view_init(20, 240, 0)\n",
    "    ax.set(\n",
    "        xlim=(0.5, 3.5),\n",
    "        ylim=(-0.5, 2.5),\n",
    "        zlim=(zmin, zmax),\n",
    "        xlabel='X',\n",
    "        ylabel='Y',\n",
    "        zlabel='Z')"
   ]
  },
  {
   "cell_type": "code",
   "execution_count": null,
   "id": "ed30108a",
   "metadata": {},
   "outputs": [],
   "source": [
    "with Figure(6, 4, 2, 2) as (fig, ax):\n",
    "    mqr.plot.regression.residuals(result.resid, result.fittedvalues, axs=ax)\n",
    "    plot = grab_figure(fig)\n",
    "\n",
    "hstack(\n",
    "    plot,\n",
    "    mqr.inference.dist.test_1sample(result.resid),\n",
    ")"
   ]
  }
 ],
 "metadata": {
  "kernelspec": {
   "display_name": "Python 3 (ipykernel)",
   "language": "python",
   "name": "python3"
  },
  "language_info": {
   "codemirror_mode": {
    "name": "ipython",
    "version": 3
   },
   "file_extension": ".py",
   "mimetype": "text/x-python",
   "name": "python",
   "nbconvert_exporter": "python",
   "pygments_lexer": "ipython3",
   "version": "3.12.4"
  }
 },
 "nbformat": 4,
 "nbformat_minor": 5
}
