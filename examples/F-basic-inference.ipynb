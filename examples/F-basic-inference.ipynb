{
 "cells": [
  {
   "cell_type": "code",
   "execution_count": null,
   "id": "c81616f0",
   "metadata": {},
   "outputs": [],
   "source": [
    "import mqr\n",
    "from mqr.plot import Figure\n",
    "from mqr.nbtools import hstack, vstack"
   ]
  },
  {
   "cell_type": "code",
   "execution_count": null,
   "id": "234a81ce",
   "metadata": {},
   "outputs": [],
   "source": [
    "import numpy as np\n",
    "import pandas as pd\n",
    "import scipy.stats as st"
   ]
  },
  {
   "cell_type": "markdown",
   "id": "04a1e4fb",
   "metadata": {},
   "source": [
    "---\n",
    "# Importing routines\n",
    "To show the structure of the library more plainly, all examples below call `mqr.inference...`.\n",
    "However, it is probably easier to import modules like this:  \n",
    "`import mqr.inference.mean as mean`  \n",
    "`import mqr.inference.nonparametric.median as median`  \n",
    "\n",
    "Or something like this:  \n",
    "`import mqr.inference as inf`  \n",
    "then  \n",
    "`inf.mean.test_1sample(...)`."
   ]
  },
  {
   "cell_type": "markdown",
   "id": "4215a1a5",
   "metadata": {},
   "source": [
    "---\n",
    "# Result types\n",
    "Sample-size, confidence interval and test results are all objects.\n",
    "They are pretty printed in the notebook for convenience, but can also be accessed programatically.\n",
    "\n",
    "Here is a demo of the programatically accessible values.\n",
    "The pretty-printed results are shows in the remainder of the notebook.\n",
    "\n",
    "Below, a demo of the result tables, which can be printed as easily copyable text with the `as_text()` method."
   ]
  },
  {
   "cell_type": "code",
   "execution_count": null,
   "id": "fb5cf5a8",
   "metadata": {},
   "outputs": [],
   "source": [
    "s = mqr.inference.mean.size_1sample(1, 0.05, 0.20)\n",
    "s.name, s.alpha, s.beta, s.effect, s.alternative, s.method, s.sample_size"
   ]
  },
  {
   "cell_type": "code",
   "execution_count": null,
   "id": "34f103bf",
   "metadata": {},
   "outputs": [],
   "source": [
    "c = mqr.inference.mean.confint_1sample(st.norm().rvs(100))\n",
    "c.name, c.value, c.lower, c.upper, c.conf"
   ]
  },
  {
   "cell_type": "code",
   "execution_count": null,
   "id": "364c24d4",
   "metadata": {},
   "outputs": [],
   "source": [
    "# Confidence intervals are iterable, and can be assigned to tuples/lists, etc\n",
    "lower, upper = c\n",
    "lower, upper"
   ]
  },
  {
   "cell_type": "code",
   "execution_count": null,
   "id": "e655ea4f",
   "metadata": {},
   "outputs": [],
   "source": [
    "t = mqr.inference.mean.test_1sample(st.norm().rvs(100), H0_mean=0.0)\n",
    "t.description, t.alternative, t.method, t.sample_stat, t.sample_stat_target, t.sample_stat_value, t.stat, t.pvalue, t.null, t.alt"
   ]
  },
  {
   "cell_type": "code",
   "execution_count": null,
   "id": "9176f429",
   "metadata": {},
   "outputs": [],
   "source": [
    "# Printed results have a condensed text form\n",
    "print(t)"
   ]
  },
  {
   "cell_type": "code",
   "execution_count": null,
   "id": "cc7105e9",
   "metadata": {},
   "outputs": [],
   "source": [
    "# The default display in notebooks is an html table.\n",
    "# The table is printed when the result is the last line executed in the cell,\n",
    "# or when calling `display(result)`\n",
    "t"
   ]
  },
  {
   "cell_type": "markdown",
   "id": "a56f2d83",
   "metadata": {},
   "source": [
    "---\n",
    "# Parametric tests\n",
    "### Distribution, mean and variance"
   ]
  },
  {
   "cell_type": "code",
   "execution_count": null,
   "id": "4aae2425",
   "metadata": {},
   "outputs": [],
   "source": [
    "np.random.seed(2345)\n",
    "dist = st.multivariate_normal(\n",
    "    mean=np.array([1.0, 10.0]),\n",
    "    cov=np.array([[ 0.5, -0.3],\n",
    "                  [-0.3,  2.6]]))\n",
    "vals = dist.rvs([100])\n",
    "df = pd.DataFrame(\n",
    "    {'x': vals[:, 0],\n",
    "     'y': vals[:, 1]})"
   ]
  },
  {
   "cell_type": "code",
   "execution_count": null,
   "id": "8367ae63",
   "metadata": {},
   "outputs": [],
   "source": [
    "mqr.inference.dist.test_1sample(\n",
    "    df['x'],\n",
    "    test='ad-norm')"
   ]
  },
  {
   "cell_type": "code",
   "execution_count": null,
   "id": "704a35ec",
   "metadata": {},
   "outputs": [],
   "source": [
    "mqr.inference.mean.test_1sample(\n",
    "    x=df['x'],\n",
    "    H0_mean=1.5)"
   ]
  },
  {
   "cell_type": "code",
   "execution_count": null,
   "id": "79202e3b-c7ac-41c9-a08c-9c2067722431",
   "metadata": {},
   "outputs": [],
   "source": [
    "mqr.inference.stddev.test_2sample(\n",
    "    x=df['x'],\n",
    "    y=df['y'],\n",
    "    alternative='two-sided')"
   ]
  },
  {
   "cell_type": "code",
   "execution_count": null,
   "id": "800963cb",
   "metadata": {},
   "outputs": [],
   "source": [
    "mqr.inference.variance.test_1sample(\n",
    "    x=df['x'],\n",
    "    H0_var=0.4,\n",
    "    alternative='greater')"
   ]
  },
  {
   "cell_type": "code",
   "execution_count": null,
   "id": "ad4e5d68",
   "metadata": {},
   "outputs": [],
   "source": [
    "ci = mqr.inference.mean.confint_1sample(\n",
    "    x=df['x'],\n",
    "    conf=0.98)\n",
    "ci"
   ]
  },
  {
   "cell_type": "code",
   "execution_count": null,
   "id": "78cdbdf6",
   "metadata": {},
   "outputs": [],
   "source": [
    "# A visual representation of the confidence interval and hypothesis test above\n",
    "with Figure(4, 4, 2, 1, height_ratios=(6, 1), sharex=True) as (fig, ax):\n",
    "    import seaborn as sns\n",
    "    sns.histplot(df['x'], ax=ax[0])\n",
    "    mqr.plot.confint(ci, hyp_value=0.60, ax=ax[1])"
   ]
  },
  {
   "cell_type": "markdown",
   "id": "6c2c68e4",
   "metadata": {},
   "source": [
    "---\n",
    "### Proportions, rates and correlations"
   ]
  },
  {
   "cell_type": "code",
   "execution_count": null,
   "id": "8d9e7037",
   "metadata": {},
   "outputs": [],
   "source": [
    "mqr.inference.proportion.size_2sample(\n",
    "    p1=0.2,\n",
    "    p2=0.4,\n",
    "    alpha=0.05,\n",
    "    beta=0.2,\n",
    "    alternative='less')"
   ]
  },
  {
   "cell_type": "code",
   "execution_count": null,
   "id": "6927aa0e",
   "metadata": {},
   "outputs": [],
   "source": [
    "mqr.inference.rate.confint_1sample(\n",
    "    count=80,\n",
    "    n=100,\n",
    "    meas=1.0,\n",
    "    conf=0.98,)"
   ]
  },
  {
   "cell_type": "code",
   "execution_count": null,
   "id": "c6f1a82f",
   "metadata": {},
   "outputs": [],
   "source": [
    "mqr.inference.correlation.test(\n",
    "    x=df['x'],\n",
    "    y=df['y'],\n",
    "    H0_corr=-0.2,\n",
    "    alternative='two-sided',)"
   ]
  },
  {
   "cell_type": "markdown",
   "id": "29d0dcb3",
   "metadata": {},
   "source": [
    "---\n",
    "# Non-parametric tests\n",
    "### Distribution, median, quantile, variance, correlation"
   ]
  },
  {
   "cell_type": "code",
   "execution_count": null,
   "id": "3059359b",
   "metadata": {},
   "outputs": [],
   "source": [
    "mqr.inference.nonparametric.dist.test_1sample(\n",
    "    x=np.array([1, 2, 1, 2, 1, 2, 1, 2]),\n",
    "    method='runs')"
   ]
  },
  {
   "cell_type": "code",
   "execution_count": null,
   "id": "7faa7b0d",
   "metadata": {},
   "outputs": [],
   "source": [
    "mqr.inference.nonparametric.median.test_nsample(\n",
    "    df['x']+8.7,\n",
    "    df['x']+9,\n",
    "    df['y'],\n",
    "    method='kruskal-wallis',\n",
    "    alternative='two-sided')"
   ]
  },
  {
   "cell_type": "code",
   "execution_count": null,
   "id": "1252eb5b",
   "metadata": {},
   "outputs": [],
   "source": [
    "mqr.inference.nonparametric.quantile.confint_1sample(\n",
    "    x=df['x'],\n",
    "    q=0.65,\n",
    "    conf=0.98,\n",
    "    bounded='below')"
   ]
  },
  {
   "cell_type": "code",
   "execution_count": null,
   "id": "d9f4bff0",
   "metadata": {},
   "outputs": [],
   "source": [
    "mqr.inference.nonparametric.variance.test_nsample(\n",
    "    df['x'],\n",
    "    df['x']+0.25*df['y'],\n",
    "    df['x']+0.45*df['y'],\n",
    "    method='levene',\n",
    "    alternative='two-sided')"
   ]
  },
  {
   "cell_type": "code",
   "execution_count": null,
   "id": "d5b83493",
   "metadata": {},
   "outputs": [],
   "source": [
    "mqr.inference.nonparametric.correlation.test(\n",
    "    x=df['x'],\n",
    "    y=df['x'],\n",
    "    alternative='two-sided',\n",
    "    method='spearman')"
   ]
  }
 ],
 "metadata": {
  "kernelspec": {
   "display_name": "Python 3 (ipykernel)",
   "language": "python",
   "name": "python3"
  },
  "language_info": {
   "codemirror_mode": {
    "name": "ipython",
    "version": 3
   },
   "file_extension": ".py",
   "mimetype": "text/x-python",
   "name": "python",
   "nbconvert_exporter": "python",
   "pygments_lexer": "ipython3",
   "version": "3.12.4"
  }
 },
 "nbformat": 4,
 "nbformat_minor": 5
}
