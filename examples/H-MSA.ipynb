{
 "cells": [
  {
   "cell_type": "code",
   "execution_count": null,
   "id": "2ea69c7f",
   "metadata": {},
   "outputs": [],
   "source": [
    "import mqr\n",
    "from mqr.plot import Figure"
   ]
  },
  {
   "cell_type": "code",
   "execution_count": null,
   "id": "368b100f",
   "metadata": {},
   "outputs": [],
   "source": [
    "import numpy as np\n",
    "import pandas as pd"
   ]
  },
  {
   "cell_type": "code",
   "execution_count": null,
   "id": "1810ea15",
   "metadata": {},
   "outputs": [],
   "source": [
    "from IPython.display import display"
   ]
  },
  {
   "cell_type": "markdown",
   "id": "1f7be362",
   "metadata": {},
   "source": [
    "# Datasets"
   ]
  },
  {
   "cell_type": "code",
   "execution_count": null,
   "id": "5ae93f21",
   "metadata": {},
   "outputs": [],
   "source": [
    "# Silicon wafer resistivity - NIST \n",
    "# F 84 - 99\n",
    "\n",
    "columns = ['RUNID', 'WAFERID', 'PROBE', 'MONTH', 'DAY', 'OPERATOR', 'TEMP', 'AVERAGE', 'STDDEV',]\n",
    "dtype = {\n",
    "    'WAFERID': int,\n",
    "    'PROBE':int,\n",
    "}\n",
    "\n",
    "data = pd.read_csv(\n",
    "    'https://www.itl.nist.gov/div898/software/dataplot/data/MPC61.DAT',\n",
    "    skiprows=50,\n",
    "    header=None,\n",
    "    names=columns,\n",
    "    sep='\\\\s+',\n",
    "    dtype=dtype,\n",
    ")\n",
    "data['REPEAT'] = np.repeat([1,2,3,4,5,6,7,8,9,10,11,12], 25)\n",
    "data"
   ]
  },
  {
   "cell_type": "markdown",
   "id": "b270c9db",
   "metadata": {},
   "source": [
    "---\n",
    "# GRR"
   ]
  },
  {
   "cell_type": "code",
   "execution_count": null,
   "id": "6fad3ae9",
   "metadata": {},
   "outputs": [],
   "source": [
    "# Use tolerance of 8 Ohm cm, and test for variance contribution from the probe (listed as operator)\n",
    "tol = 8.0\n",
    "names = mqr.msa.NameMapping(part='WAFERID', operator='PROBE', replicate='REPEAT', measurement='AVERAGE')\n",
    "names"
   ]
  },
  {
   "cell_type": "code",
   "execution_count": null,
   "id": "7a1c848c",
   "metadata": {},
   "outputs": [],
   "source": [
    "# Use only RUNID==1, as in the lecture notes\n",
    "grr = mqr.msa.GRR(data[data['RUNID']==1], tol, names=names, include_interaction=True)"
   ]
  },
  {
   "cell_type": "code",
   "execution_count": null,
   "id": "f149e8c6",
   "metadata": {},
   "outputs": [],
   "source": [
    "mqr.nbtools.vstack(\n",
    "    grr.adequacy_table,\n",
    "    grr.anova_table,\n",
    "    grr.grr_table)"
   ]
  },
  {
   "cell_type": "markdown",
   "id": "0438599d",
   "metadata": {},
   "source": [
    "NB: one outlier skews the residuals. It is visible at the very low quantiles in the probability plot.\n",
    "* The outlier is low enough to reject the JB null-hyp with significance >95%.\n",
    "* The Anderson-Darling test doesn't find enough evidence to reject the null-hyp that the residuals are normal.\n",
    "\n",
    "Consider reviewing the test conditions for that datapoint to ensure the data is likely from the same process as the others."
   ]
  },
  {
   "cell_type": "code",
   "execution_count": null,
   "id": "8322f81d",
   "metadata": {},
   "outputs": [],
   "source": [
    "with Figure(7, 4, 2, 2, height_ratios=[2, 1]) as (fig, ax):\n",
    "    mqr.plot.regression.residuals(grr.regression_result, tr='studentised', axs=ax)\n",
    "    plot = mqr.nbtools.grab_figure(fig)\n",
    "\n",
    "mqr.nbtools.hstack(\n",
    "    plot,\n",
    "    mqr.nbtools.vstack(\n",
    "        grr.adequacy_table,\n",
    "        mqr.inference.dist.test_1sample(grr.residuals, test='ad-norm')))"
   ]
  },
  {
   "cell_type": "markdown",
   "id": "02fcda38",
   "metadata": {},
   "source": [
    "---\n",
    "# Models"
   ]
  },
  {
   "cell_type": "code",
   "execution_count": null,
   "id": "469e8f8d",
   "metadata": {},
   "outputs": [],
   "source": [
    "mqr.anova.groups(\n",
    "    grr.data,\n",
    "    value=names.measurement,\n",
    "    factor=names.operator)"
   ]
  },
  {
   "cell_type": "code",
   "execution_count": null,
   "id": "60923051",
   "metadata": {},
   "outputs": [],
   "source": [
    "mqr.anova.interactions(\n",
    "    grr.data,\n",
    "    value=names.measurement,\n",
    "    between=(names.part, names.operator))"
   ]
  },
  {
   "cell_type": "markdown",
   "id": "2fafb00a",
   "metadata": {},
   "source": [
    "---\n",
    "## Plots"
   ]
  },
  {
   "cell_type": "raw",
   "id": "ef463d8f",
   "metadata": {},
   "source": [
    "# The individual plots that form the tableau below are in mqr.plot.msa.*\n",
    "mqr.plot.msa.bar_var_pct\n",
    "mqr.plot.msa.box_measurement_by_part\n",
    "mqr.plot.msa.box_measurement_by_operator\n",
    "mqr.plot.msa.interaction\n",
    "mqr.plot.msa.xbar_operator\n",
    "mqr.plot.msa.r_operator"
   ]
  },
  {
   "cell_type": "code",
   "execution_count": null,
   "id": "65372fe2",
   "metadata": {},
   "outputs": [],
   "source": [
    "with Figure(12, 6, 3, 2) as (fig, ax):\n",
    "    mqr.plot.msa.grr(grr, axs=ax)"
   ]
  }
 ],
 "metadata": {
  "kernelspec": {
   "display_name": "Python 3 (ipykernel)",
   "language": "python",
   "name": "python3"
  },
  "language_info": {
   "codemirror_mode": {
    "name": "ipython",
    "version": 3
   },
   "file_extension": ".py",
   "mimetype": "text/x-python",
   "name": "python",
   "nbconvert_exporter": "python",
   "pygments_lexer": "ipython3",
   "version": "3.12.4"
  }
 },
 "nbformat": 4,
 "nbformat_minor": 5
}
