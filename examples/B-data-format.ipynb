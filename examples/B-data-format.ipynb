{
 "cells": [
  {
   "cell_type": "code",
   "execution_count": null,
   "id": "ee4746df-1e56-4054-a975-74f2fc7966c5",
   "metadata": {},
   "outputs": [],
   "source": [
    "import mqr"
   ]
  },
  {
   "cell_type": "code",
   "execution_count": null,
   "id": "933ba941",
   "metadata": {},
   "outputs": [],
   "source": [
    "import numpy as np\n",
    "import pandas as pd"
   ]
  },
  {
   "cell_type": "markdown",
   "id": "4503084a",
   "metadata": {},
   "source": [
    "---\n",
    "# Tools for specifying levels in experiments"
   ]
  },
  {
   "cell_type": "code",
   "execution_count": null,
   "id": "9ae45149",
   "metadata": {},
   "outputs": [],
   "source": [
    "np.repeat(1, 3), np.tile(1, 3)"
   ]
  },
  {
   "cell_type": "code",
   "execution_count": null,
   "id": "3e82e474",
   "metadata": {},
   "outputs": [],
   "source": [
    "np.repeat([1, 2], 3)"
   ]
  },
  {
   "cell_type": "code",
   "execution_count": null,
   "id": "0c076b62",
   "metadata": {},
   "outputs": [],
   "source": [
    "np.tile([1, 2], 3)"
   ]
  },
  {
   "cell_type": "code",
   "execution_count": null,
   "id": "db866279",
   "metadata": {},
   "outputs": [],
   "source": [
    "# Interleaving two levels with increasing group size\n",
    "# NB: `np.repeat(a, 1) == a` and `np.tile(a, 1) == a` are both `True`.\n",
    "#     There is no need to use them in practise; they are shown here\n",
    "#     just to illustrate the pattern.\n",
    "levels = [1, 2]\n",
    "display(np.repeat(np.tile(levels, 1), 8))\n",
    "display(np.repeat(np.tile(levels, 2), 4))\n",
    "display(np.repeat(np.tile(levels, 4), 2))\n",
    "display(np.repeat(np.tile(levels, 8), 1))"
   ]
  },
  {
   "cell_type": "markdown",
   "id": "27281c38",
   "metadata": {},
   "source": [
    "---\n",
    "# Creating a `DataFrame` manually"
   ]
  },
  {
   "cell_type": "code",
   "execution_count": null,
   "id": "c37399c2",
   "metadata": {},
   "outputs": [],
   "source": [
    "# ... from an array with manual column name\n",
    "\n",
    "values = np.array([\n",
    "    19.8, 10.1, 14.9,  7.5, 15.4, 15.4,\n",
    "    15.4, 18.5,  7.9, 12.7, 11.9, 11.4,\n",
    "    11.4, 14.1, 17.6, 16.7, 15.8,\n",
    "    19.5,  8.8, 13.6, 11.9, 11.4,\n",
    "])\n",
    "index = pd.RangeIndex(stop=len(values), name='part')\n",
    "columns = ['failure load']\n",
    "\n",
    "load_df = pd.DataFrame(\n",
    "    values,\n",
    "    index=index,\n",
    "    columns=columns\n",
    ")\n",
    "load_df"
   ]
  },
  {
   "cell_type": "code",
   "execution_count": null,
   "id": "ad98915c",
   "metadata": {},
   "outputs": [],
   "source": [
    "# ... from a dictionary\n",
    "\n",
    "primer = np.repeat([1, 2, 3], 6) # 3*6==18\n",
    "technique = np.tile(np.repeat(['dipping', 'spraying'], 3), 3) # 2*3*3==18\n",
    "replicate = np.tile([1, 2, 3], 6) # 3*6==18\n",
    "adhesion_force = np.array([\n",
    "    4.0, 4.5, 4.3, 4.5, 4.9, 5.6,\n",
    "    5.6, 4.9, 5.4, 5.8, 6.1, 6.3,\n",
    "    3.8, 3.7, 4.0, 5.5, 5.0, 5.0])\n",
    "data = {\n",
    "    'primer': primer,\n",
    "    'technique': technique,\n",
    "    'replicate': replicate,\n",
    "    'adhesion_force': adhesion_force}\n",
    "\n",
    "index = pd.RangeIndex(stop=len(adhesion_force))\n",
    "\n",
    "sample_df = pd.DataFrame(\n",
    "    data=data,\n",
    "    index=index)\n",
    "sample_df"
   ]
  },
  {
   "cell_type": "markdown",
   "id": "37767319",
   "metadata": {},
   "source": [
    "---\n",
    "# Saving a `DataFrame` to CSV"
   ]
  },
  {
   "cell_type": "code",
   "execution_count": null,
   "id": "c9bec2a7",
   "metadata": {},
   "outputs": [],
   "source": [
    "# Set `index=False` to omit the auto-generated numerical index\n",
    "sample_df.to_csv('sample_df.csv', index=False)"
   ]
  },
  {
   "cell_type": "markdown",
   "id": "e891a78c",
   "metadata": {},
   "source": [
    "---\n",
    "# Loading a `DataFrame` from CSV"
   ]
  },
  {
   "cell_type": "code",
   "execution_count": null,
   "id": "01e8c7cc",
   "metadata": {},
   "outputs": [],
   "source": [
    "# The index is auto-generated again when the file is loaded\n",
    "pd.read_csv('sample_df.csv')"
   ]
  },
  {
   "cell_type": "code",
   "execution_count": null,
   "id": "f6f07676",
   "metadata": {},
   "outputs": [],
   "source": [
    "# Use a named column as the index\n",
    "pd.read_csv(mqr.sample_data('study-random-5x5.csv'), index_col='run')"
   ]
  },
  {
   "cell_type": "markdown",
   "id": "20a0a800",
   "metadata": {},
   "source": [
    "---\n",
    "# Sample datasets"
   ]
  },
  {
   "cell_type": "code",
   "execution_count": null,
   "id": "dfc95db0",
   "metadata": {},
   "outputs": [],
   "source": [
    "from importlib import resources\n",
    "[f.name for f in resources.files('mqr.data').iterdir()]"
   ]
  },
  {
   "cell_type": "markdown",
   "id": "ffa0b137-fa75-409c-a754-9c758066949e",
   "metadata": {},
   "source": [
    "---\n",
    "# Arranging multiple elements in a single output\n",
    "### `DataFrame`s, plots and markdown\n",
    "\n",
    "Jupyter normally shows a single output per cell. This tool arranges elements into flexbox layouts\n",
    "(see [Flexbox](https://developer.mozilla.org/en-US/docs/Learn/CSS/CSS_layout/Flexbox)).\n",
    "\n",
    "**DataFrame**:\n",
    "All objects that have the method `_repr_html_` will be shown as the output of that method.  \n",
    "**Markdown**:\n",
    "All strings are interpreted as markdown.  \n",
    "**Plots**:\n",
    "To include a figure with these tools, capture it with `mqr.nbtools.grab_figure(...)`, and then pass it to the stacking functions.  \n",
    "**Lines**:\n",
    "The library also exposes an enum called `Line`, which produces vertical and horizontal lines between elements.  \n",
    "**Everything else**:\n",
    "Everything else will be shown as text by displaying the result of calling `str(...)` on the object.  \n",
    "\n",
    "### Creating layouts\n",
    "`vstack` and `hstack` can be nested to produce fairly flexible layouts."
   ]
  },
  {
   "cell_type": "code",
   "execution_count": null,
   "id": "a87ca5f5-6ea7-4048-88e8-abca8790d0b9",
   "metadata": {},
   "outputs": [],
   "source": [
    "from mqr.nbtools import vstack, hstack, Line, grab_figure\n",
    "from mqr.plot import Figure\n",
    "\n",
    "with Figure(4, 3) as (fig, ax):\n",
    "    ax.plot(load_df)\n",
    "    plot = grab_figure(fig)\n",
    "\n",
    "markdown = '''\n",
    "This is some text to show the markdown rendering. Here is a list:\n",
    "\n",
    "* first,\n",
    "* second, and\n",
    "* third.\n",
    "\n",
    "And here is a table.\n",
    "\n",
    "| Col1 | Col2 | Col3 |\n",
    "|:---  |  ---:| ---  |\n",
    "| The | quick | brown |\n",
    "| fox | jumps | over |\n",
    "| the | lazy | dog. |\n",
    "'''\n",
    "\n",
    "vstack(\n",
    "    '## Flex-layout stacking tools',\n",
    "    pd.DataFrame(index=['data'], columns=range(30), data=np.arange(30)[None, :]+100),\n",
    "    markdown,\n",
    "    Line.HORIZONTAL,\n",
    "    hstack(\n",
    "        load_df,\n",
    "        sample_df,\n",
    "        Line.VERTICAL,\n",
    "        vstack(\n",
    "            '### Plots',\n",
    "            '* A plot of load_df, and\\n * The first lines of sample_df',\n",
    "            plot,\n",
    "            sample_df.head()\n",
    "        )\n",
    "    )\n",
    ")"
   ]
  }
 ],
 "metadata": {
  "kernelspec": {
   "display_name": "Python 3 (ipykernel)",
   "language": "python",
   "name": "python3"
  },
  "language_info": {
   "codemirror_mode": {
    "name": "ipython",
    "version": 3
   },
   "file_extension": ".py",
   "mimetype": "text/x-python",
   "name": "python",
   "nbconvert_exporter": "python",
   "pygments_lexer": "ipython3",
   "version": "3.12.4"
  }
 },
 "nbformat": 4,
 "nbformat_minor": 5
}
